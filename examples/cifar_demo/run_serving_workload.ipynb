{
 "cells": [
  {
   "cell_type": "code",
   "execution_count": null,
   "metadata": {
    "collapsed": false,
    "slideshow": {
     "slide_type": "skip"
    }
   },
   "outputs": [],
   "source": [
    "%load_ext autoreload\n",
    "%autoreload 2\n",
    "import os\n",
    "import cifar_utils \n",
    "%matplotlib notebook\n",
    "\n",
    "ec2_host = \"ec2-54-67-123-237.us-west-1.compute.amazonaws.com\"\n",
    "app_name = \"superman_detection\"\n",
    "cifar_path = os.path.expanduser(\"~/model-serving/data/cifar\")\n",
    "test_x, test_y = cifar_utils.filter_data(\n",
    "    *cifar_utils.load_cifar(cifar_path, cifar_filename=\"cifar_test.data\", norm=True))"
   ]
  },
  {
   "cell_type": "markdown",
   "metadata": {
    "slideshow": {
     "slide_type": "slide"
    }
   },
   "source": [
    "# The Frontend Dev perspective:\n",
    "\n",
    "```python\n",
    "def superman_detection_client(uid, x):\n",
    "    url = \"http://clipper_service:1337/superman_detection/predict\"\n",
    "    request_json = json.dumps({'uid': uid, 'input': x})\n",
    "    response = requests.post(url, data=request_json)\n",
    "    bird_or_plane = parse_prediction(response.text)\n",
    "    return bird_or_plane\n",
    "\n",
    "```"
   ]
  },
  {
   "cell_type": "markdown",
   "metadata": {
    "slideshow": {
     "slide_type": "slide"
    }
   },
   "source": [
    "## Run a serving workload"
   ]
  },
  {
   "cell_type": "code",
   "execution_count": null,
   "metadata": {
    "collapsed": false,
    "scrolled": false,
    "slideshow": {
     "slide_type": "subslide"
    }
   },
   "outputs": [],
   "source": [
    "cifar_utils.run_serving_workload(ec2_host, app_name, test_x, test_y)"
   ]
  }
 ],
 "metadata": {
  "celltoolbar": "Slideshow",
  "kernelspec": {
   "display_name": "Python 2",
   "language": "python",
   "name": "python2"
  },
  "language_info": {
   "codemirror_mode": {
    "name": "ipython",
    "version": 2
   },
   "file_extension": ".py",
   "mimetype": "text/x-python",
   "name": "python",
   "nbconvert_exporter": "python",
   "pygments_lexer": "ipython2",
   "version": "2.7.13"
  }
 },
 "nbformat": 4,
 "nbformat_minor": 0
}
