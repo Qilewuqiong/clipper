{
 "cells": [
  {
   "cell_type": "markdown",
   "metadata": {
    "slideshow": {
     "slide_type": "notes"
    }
   },
   "source": [
    "# Set up"
   ]
  },
  {
   "cell_type": "code",
   "execution_count": 1,
   "metadata": {
    "collapsed": false,
    "slideshow": {
     "slide_type": "skip"
    }
   },
   "outputs": [
    {
     "data": {
      "text/plain": [
       "{u'start_slideshow_at': 'selected', u'theme': 'simple', u'transition': 'none'}"
      ]
     },
     "execution_count": 1,
     "metadata": {},
     "output_type": "execute_result"
    }
   ],
   "source": [
    "%load_ext autoreload\n",
    "%autoreload 2\n",
    "import os\n",
    "import cifar_utils\n",
    "import clipper_manager as cl\n",
    "import pandas as pd\n",
    "import numpy as np\n",
    "from sklearn import linear_model as lm\n",
    "from sklearn import svm\n",
    "import tensorflow as tf\n",
    "from skimage import io\n",
    "import matplotlib as mpl\n",
    "mpl.rc(\"savefig\", dpi=200)\n",
    "import matplotlib.pyplot as plt\n",
    "%matplotlib inline\n",
    "\n",
    "\n",
    "from traitlets.config.manager import BaseJSONConfigManager\n",
    "cfg_path = \"/Users/crankshaw/anaconda2/envs/clipper/etc/jupyter/nbconfig\"\n",
    "cm = BaseJSONConfigManager(config_dir=cfg_path)\n",
    "cm.update('livereveal', {\n",
    "              'theme': 'simple',\n",
    "              'transition': 'none',\n",
    "              'start_slideshow_at': 'selected',\n",
    "})"
   ]
  },
  {
   "cell_type": "markdown",
   "metadata": {
    "slideshow": {
     "slide_type": "skip"
    }
   },
   "source": [
    "# Set up EC2 instance"
   ]
  },
  {
   "cell_type": "code",
   "execution_count": 3,
   "metadata": {
    "collapsed": false,
    "slideshow": {
     "slide_type": "skip"
    }
   },
   "outputs": [
    {
     "name": "stdout",
     "output_type": "stream",
     "text": [
      "Checking if Docker is running...\n",
      "Found Docker running\n",
      "Checking if docker-compose is installed...\n",
      "Found docker-compose installed\n",
      "Creating internal Docker network\n",
      "Stopping Clipper and all running models...\n",
      "[ec2-54-67-123-237.us-west-1.compute.amazonaws.com] sudo: docker pull clipper/query_frontend:test\n",
      "[ec2-54-67-123-237.us-west-1.compute.amazonaws.com] sudo: docker pull clipper/management_frontend:test\n",
      "[ec2-54-67-123-237.us-west-1.compute.amazonaws.com] sudo: docker pull redis\n",
      "[ec2-54-67-123-237.us-west-1.compute.amazonaws.com] sudo: docker pull clipper/sklearn_cifar_container:test\n",
      "[ec2-54-67-123-237.us-west-1.compute.amazonaws.com] sudo: docker pull clipper/tf_cifar_container:test\n"
     ]
    }
   ],
   "source": [
    "import clipper_manager as cl\n",
    "ec2_host = \"ec2-54-67-123-237.us-west-1.compute.amazonaws.com\"\n",
    "user = \"ubuntu\"\n",
    "key = os.path.expanduser(\"~/.ssh/aws_rsa\")\n",
    "clipper = cl.Cluster(ec2_host, user, key)\n",
    "clipper.stop_all()\n",
    "clipper.pull_docker_images()"
   ]
  },
  {
   "cell_type": "markdown",
   "metadata": {
    "slideshow": {
     "slide_type": "skip"
    }
   },
   "source": [
    "### Load CIFAR-10 data and train/load models"
   ]
  },
  {
   "cell_type": "code",
   "execution_count": 6,
   "metadata": {
    "collapsed": false,
    "slideshow": {
     "slide_type": "skip"
    }
   },
   "outputs": [
    {
     "name": "stdout",
     "output_type": "stream",
     "text": [
      "Number of image files: 50000\n",
      "Number of image files: 10000\n",
      "Number of image files: 10000\n"
     ]
    }
   ],
   "source": [
    "cifar_path = os.path.expanduser(\"~/model-serving/data/cifar\")\n",
    "train_x, train_y = cifar_utils.filter_data(\n",
    "    *cifar_utils.load_cifar(cifar_path, cifar_filename=\"cifar_train.data\", norm=True))\n",
    "test_x, test_y = cifar_utils.filter_data(\n",
    "    *cifar_utils.load_cifar(cifar_path, cifar_filename=\"cifar_test.data\", norm=True))\n",
    "no_norm_x, no_norm_y = cifar_utils.filter_data(\n",
    "    *cifar_utils.load_cifar(cifar_path, cifar_filename=\"cifar_test.data\", norm=False))\n",
    "\n",
    "# Train Scikit-Learn Logistic Regression model\n",
    "def train_model(m, train_x, train_y):\n",
    "    m.fit(train_x, train_y)\n",
    "    return m\n",
    "lin_model = train_model(lm.LogisticRegression(), train_x, train_y)\n",
    "\n",
    "# Load pre-trained TF model\n",
    "tf_cifar_model_path = os.path.expanduser(\n",
    "    \"~/clipper-cpp/examples/cifar_demo/tf_cifar_model/cifar10_model_full\")\n",
    "tf_session = tf.Session('', tf.Graph())\n",
    "with tf_session.graph.as_default():\n",
    "    saver = tf.train.import_meta_graph(\"%s.meta\" % tf_cifar_model_path)\n",
    "    saver.restore(tf_session, tf_cifar_model_path)\n",
    "\n",
    "def tensorflow_score(session, test_x, test_y):\n",
    "    \"\"\"\n",
    "    NOTE: This predict method expects pre-whitened (normalized) images\n",
    "    \"\"\"\n",
    "    logits = session.run('softmax_logits:0',\n",
    "                           feed_dict={'x:0': test_x})\n",
    "    relevant_activations = logits[:, [cifar_utils.negative_class, cifar_utils.positive_class]]\n",
    "    preds = np.argmax(relevant_activations, axis=1)\n",
    "    preds[preds == 0] = -1.0\n",
    "    return float(np.sum(preds == test_y)) / float(len(test_y))\n"
   ]
  },
  {
   "cell_type": "markdown",
   "metadata": {
    "slideshow": {
     "slide_type": "slide"
    }
   },
   "source": [
    "<h1 align=\"center\">DEMO</h1> "
   ]
  },
  {
   "cell_type": "markdown",
   "metadata": {
    "slideshow": {
     "slide_type": "slide"
    }
   },
   "source": [
    "<h2 align=\"center\">Is it a bird? Is it a plane? It's probably not Superman...</h2> \n",
    "![Alt](superman.png#center)"
   ]
  },
  {
   "cell_type": "markdown",
   "metadata": {
    "slideshow": {
     "slide_type": "skip"
    }
   },
   "source": [
    "![Alt](superman.png#center)"
   ]
  },
  {
   "cell_type": "code",
   "execution_count": 8,
   "metadata": {
    "collapsed": false,
    "slideshow": {
     "slide_type": "slide"
    }
   },
   "outputs": [
    {
     "data": {
      "image/png": "[encoded data removed]",
      "text/plain": [
       "<matplotlib.figure.Figure at 0x10eb25210>"
      ]
     },
     "metadata": {},
     "output_type": "display_data"
    }
   ],
   "source": [
    "cifar_utils.show_example_images(no_norm_x, no_norm_y, 2)"
   ]
  },
  {
   "cell_type": "code",
   "execution_count": 9,
   "metadata": {
    "collapsed": false,
    "slideshow": {
     "slide_type": "slide"
    }
   },
   "outputs": [
    {
     "name": "stdout",
     "output_type": "stream",
     "text": [
      "Checking if Docker is running...\n",
      "Found Docker running\n",
      "Checking if docker-compose is installed...\n",
      "Found docker-compose installed\n",
      "Creating internal Docker network\n",
      "Clipper is running\n"
     ]
    }
   ],
   "source": [
    "import clipper_manager as cl\n",
    "ec2_host = \"ec2-54-67-123-237.us-west-1.compute.amazonaws.com\"\n",
    "user = \"ubuntu\"\n",
    "key = os.path.expanduser(\"~/.ssh/aws_rsa\")\n",
    "clipper = cl.Cluster(ec2_host, user, key)\n",
    "\n",
    "clipper.start_clipper()"
   ]
  },
  {
   "cell_type": "code",
   "execution_count": 10,
   "metadata": {
    "collapsed": false,
    "slideshow": {
     "slide_type": "slide"
    }
   },
   "outputs": [
    {
     "name": "stdout",
     "output_type": "stream",
     "text": [
      "Clipper has no applications registered\n"
     ]
    }
   ],
   "source": [
    "# \"Can now interact with Clipper. For instance...\"\n",
    "clipper.list_apps()\n",
    "# so let's register one with Clipper. As a data scientist..."
   ]
  },
  {
   "cell_type": "code",
   "execution_count": 11,
   "metadata": {
    "collapsed": false,
    "slideshow": {
     "slide_type": "slide"
    }
   },
   "outputs": [
    {
     "name": "stdout",
     "output_type": "stream",
     "text": [
      "Success!\n"
     ]
    }
   ],
   "source": [
    "app_name = \"superman_detection\"\n",
    "candidate_models = [\n",
    "    {\"model_name\": \"sklearn_cifar\", \"model_version\": 1},\n",
    "    {\"model_name\": \"tf_cifar\", \"model_version\": 1},\n",
    "]\n",
    "\n",
    "clipper.register_application(\n",
    "    name=app_name,\n",
    "    candidate_models=candidate_models,\n",
    "    input_type=\"doubles\",\n",
    "    slo_micros=20000)"
   ]
  },
  {
   "cell_type": "code",
   "execution_count": null,
   "metadata": {
    "collapsed": false,
    "slideshow": {
     "slide_type": "fragment"
    }
   },
   "outputs": [],
   "source": [
    "clipper.list_apps()"
   ]
  },
  {
   "cell_type": "markdown",
   "metadata": {
    "slideshow": {
     "slide_type": "slide"
    }
   },
   "source": [
    "# Start a serving workload"
   ]
  },
  {
   "cell_type": "markdown",
   "metadata": {
    "slideshow": {
     "slide_type": "slide"
    }
   },
   "source": [
    "# Start with logistic regression..."
   ]
  },
  {
   "cell_type": "code",
   "execution_count": null,
   "metadata": {
    "collapsed": false,
    "slideshow": {
     "slide_type": "fragment"
    }
   },
   "outputs": [],
   "source": [
    "type(lin_model)\n",
    "print(\"Logistic Regression test score: %f\" % lin_model.score(test_x, test_y))"
   ]
  },
  {
   "cell_type": "markdown",
   "metadata": {
    "slideshow": {
     "slide_type": "slide"
    }
   },
   "source": [
    "### Deploy to Clipper"
   ]
  },
  {
   "cell_type": "code",
   "execution_count": null,
   "metadata": {
    "collapsed": false,
    "scrolled": true,
    "slideshow": {
     "slide_type": "fragment"
    }
   },
   "outputs": [],
   "source": [
    "# TODO TODO TODO: Before merge, change :test to :latest\n",
    "\n",
    "# deploy a model we just trained in same session we registered\n",
    "# application\n",
    "# without having to worry about any external dependencies\n",
    "model_added = clipper.deploy_model(\n",
    "    name=\"sklearn_cifar\",\n",
    "    version=1,\n",
    "    model_data=lin_model,\n",
    "    container_name=\"clipper/sklearn_cifar_container:test\",\n",
    "    labels=[\"cifar\", \"sklearn\"],\n",
    "    input_type=\"doubles\",\n",
    "    num_containers=1\n",
    ")"
   ]
  },
  {
   "cell_type": "markdown",
   "metadata": {
    "slideshow": {
     "slide_type": "notes"
    }
   },
   "source": [
    "Check accuracy of serving workload"
   ]
  },
  {
   "cell_type": "markdown",
   "metadata": {
    "slideshow": {
     "slide_type": "slide"
    }
   },
   "source": [
    "## Deploy TensorFlow Model to Clipper"
   ]
  },
  {
   "cell_type": "code",
   "execution_count": null,
   "metadata": {
    "collapsed": false,
    "slideshow": {
     "slide_type": "fragment"
    }
   },
   "outputs": [],
   "source": [
    "print(\"TensorFlow CNN test score: %f\" % tensorflow_score(tf_session, test_x, test_y))"
   ]
  },
  {
   "cell_type": "code",
   "execution_count": null,
   "metadata": {
    "collapsed": false,
    "slideshow": {
     "slide_type": "fragment"
    }
   },
   "outputs": [],
   "source": [
    "# TODO TODO TODO: Before merge, change :test to :latest\n",
    "\n",
    "model_added = clipper.deploy_model(\n",
    "    name=\"tf_cifar\",\n",
    "    version=1,\n",
    "    model_data=\"/Users/crankshaw/clipper-cpp/examples/cifar_demo/tf_cifar_model\",\n",
    "    container_name=\"clipper/tf_cifar_container:test\",\n",
    "    labels=[\"cifar\", \"tf\"],\n",
    "    input_type=\"doubles\",\n",
    "    num_containers=1\n",
    ")"
   ]
  },
  {
   "cell_type": "markdown",
   "metadata": {
    "slideshow": {
     "slide_type": "notes"
    }
   },
   "source": [
    "Check accuracy of serving workload"
   ]
  },
  {
   "cell_type": "code",
   "execution_count": null,
   "metadata": {
    "collapsed": false,
    "slideshow": {
     "slide_type": "slide"
    }
   },
   "outputs": [],
   "source": [
    "clipper.get_bandit_weights(app_name=app_name, uid=0)"
   ]
  },
  {
   "cell_type": "markdown",
   "metadata": {
    "slideshow": {
     "slide_type": "slide"
    }
   },
   "source": [
    "## Send some feedback"
   ]
  },
  {
   "cell_type": "code",
   "execution_count": null,
   "metadata": {
    "collapsed": false,
    "scrolled": true,
    "slideshow": {
     "slide_type": "fragment"
    }
   },
   "outputs": [],
   "source": [
    "# scrolling output:\n",
    "# change height of scroll window?\n",
    "# s/send_updates/enable_feedback\n",
    "cifar_utils.send_updates(ec2_host, app_name, test_x, test_y, 100)"
   ]
  },
  {
   "cell_type": "markdown",
   "metadata": {
    "slideshow": {
     "slide_type": "notes"
    }
   },
   "source": [
    "(go back to accuracy plot)"
   ]
  },
  {
   "cell_type": "code",
   "execution_count": null,
   "metadata": {
    "collapsed": false,
    "slideshow": {
     "slide_type": "slide"
    }
   },
   "outputs": [],
   "source": [
    "# \"reason why you see the jump in accuracy...\"\n",
    "# \"putting more weight on the more accurate model, so we're seeing\n",
    "# an improvement in the overall appplication accuracy\"\n",
    "clipper.get_bandit_weights(app_name=app_name, uid=0)"
   ]
  },
  {
   "cell_type": "markdown",
   "metadata": {
    "slideshow": {
     "slide_type": "slide"
    }
   },
   "source": [
    "+ easy for data scientist to roll out app\n",
    "+ easy for the data scientist to improve accuracy by using heterogeneous models\n",
    "\n",
    "\n",
    "+ throughout this whole process, interaction with the application was completely independent from any changes to the models\n",
    "+ disassociating interaction with the application from any improvements to the application by the data scientist"
   ]
  },
  {
   "cell_type": "markdown",
   "metadata": {
    "collapsed": true,
    "slideshow": {
     "slide_type": "skip"
    }
   },
   "source": [
    "# Clean Up"
   ]
  },
  {
   "cell_type": "code",
   "execution_count": null,
   "metadata": {
    "collapsed": false,
    "slideshow": {
     "slide_type": "skip"
    }
   },
   "outputs": [],
   "source": [
    "# clipper.stop_all()\n",
    "# clipper.pull_docker_images()\n",
    "clipper.cleanup()"
   ]
  },
  {
   "cell_type": "code",
   "execution_count": null,
   "metadata": {
    "collapsed": true,
    "slideshow": {
     "slide_type": "skip"
    }
   },
   "outputs": [],
   "source": []
  }
 ],
 "metadata": {
  "celltoolbar": "Slideshow",
  "kernelspec": {
   "display_name": "Python 2",
   "language": "python",
   "name": "python2"
  },
  "language_info": {
   "codemirror_mode": {
    "name": "ipython",
    "version": 2
   },
   "file_extension": ".py",
   "mimetype": "text/x-python",
   "name": "python",
   "nbconvert_exporter": "python",
   "pygments_lexer": "ipython2",
   "version": "2.7.13"
  }
 },
 "nbformat": 4,
 "nbformat_minor": 0
}
