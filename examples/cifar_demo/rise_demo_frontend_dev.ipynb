{
 "cells": [
  {
   "cell_type": "markdown",
   "metadata": {
    "slideshow": {
     "slide_type": "notes"
    }
   },
   "source": [
    "# Set up frontend dev"
   ]
  },
  {
   "cell_type": "code",
   "execution_count": 1,
   "metadata": {
    "collapsed": false,
    "slideshow": {
     "slide_type": "skip"
    }
   },
   "outputs": [
    {
     "name": "stdout",
     "output_type": "stream",
     "text": [
      "Checking if Docker is running...\n",
      "Stopping Clipper and all running models...\n",
      "[ec2-54-67-123-237.us-west-1.compute.amazonaws.com] sudo: docker pull clipper/query_frontend:test\n",
      "[ec2-54-67-123-237.us-west-1.compute.amazonaws.com] sudo: docker pull clipper/management_frontend:test\n",
      "[ec2-54-67-123-237.us-west-1.compute.amazonaws.com] sudo: docker pull redis\n",
      "[ec2-54-67-123-237.us-west-1.compute.amazonaws.com] sudo: docker pull clipper/sklearn_cifar_container:test\n"
     ]
    },
    {
     "ename": "KeyboardInterrupt",
     "evalue": "",
     "output_type": "error",
     "traceback": [
      "\u001b[0;31m---------------------------------------------------------------------------\u001b[0m",
      "\u001b[0;31mKeyboardInterrupt\u001b[0m                         Traceback (most recent call last)",
      "\u001b[0;32m<ipython-input-1-a5497af9a148>\u001b[0m in \u001b[0;36m<module>\u001b[0;34m()\u001b[0m\n\u001b[1;32m     29\u001b[0m \u001b[0mclipper\u001b[0m \u001b[0;34m=\u001b[0m \u001b[0mcl\u001b[0m\u001b[0;34m.\u001b[0m\u001b[0mCluster\u001b[0m\u001b[0;34m(\u001b[0m\u001b[0mec2_host\u001b[0m\u001b[0;34m,\u001b[0m \u001b[0muser\u001b[0m\u001b[0;34m,\u001b[0m \u001b[0mkey\u001b[0m\u001b[0;34m)\u001b[0m\u001b[0;34m\u001b[0m\u001b[0m\n\u001b[1;32m     30\u001b[0m \u001b[0mclipper\u001b[0m\u001b[0;34m.\u001b[0m\u001b[0mcleanup\u001b[0m\u001b[0;34m(\u001b[0m\u001b[0;34m)\u001b[0m\u001b[0;34m\u001b[0m\u001b[0m\n\u001b[0;32m---> 31\u001b[0;31m \u001b[0mclipper\u001b[0m\u001b[0;34m.\u001b[0m\u001b[0mpull_docker_images\u001b[0m\u001b[0;34m(\u001b[0m\u001b[0;34m)\u001b[0m\u001b[0;34m\u001b[0m\u001b[0m\n\u001b[0m\u001b[1;32m     32\u001b[0m \u001b[0;34m\u001b[0m\u001b[0m\n\u001b[1;32m     33\u001b[0m \u001b[0mcifar_path\u001b[0m \u001b[0;34m=\u001b[0m \u001b[0mos\u001b[0m\u001b[0;34m.\u001b[0m\u001b[0mpath\u001b[0m\u001b[0;34m.\u001b[0m\u001b[0mexpanduser\u001b[0m\u001b[0;34m(\u001b[0m\u001b[0;34m\"~/model-serving/data/cifar\"\u001b[0m\u001b[0;34m)\u001b[0m\u001b[0;34m\u001b[0m\u001b[0m\n",
      "\u001b[0;32m/Users/crankshaw/clipper-cpp/management/clipper_manager.pyc\u001b[0m in \u001b[0;36mpull_docker_images\u001b[0;34m(self)\u001b[0m\n\u001b[1;32m    430\u001b[0m             \u001b[0msudo\u001b[0m\u001b[0;34m(\u001b[0m\u001b[0;34m\"docker pull clipper/management_frontend:test\"\u001b[0m\u001b[0;34m)\u001b[0m\u001b[0;34m\u001b[0m\u001b[0m\n\u001b[1;32m    431\u001b[0m             \u001b[0msudo\u001b[0m\u001b[0;34m(\u001b[0m\u001b[0;34m\"docker pull redis\"\u001b[0m\u001b[0;34m)\u001b[0m\u001b[0;34m\u001b[0m\u001b[0m\n\u001b[0;32m--> 432\u001b[0;31m             \u001b[0msudo\u001b[0m\u001b[0;34m(\u001b[0m\u001b[0;34m\"docker pull clipper/sklearn_cifar_container:test\"\u001b[0m\u001b[0;34m)\u001b[0m\u001b[0;34m\u001b[0m\u001b[0m\n\u001b[0m\u001b[1;32m    433\u001b[0m             \u001b[0msudo\u001b[0m\u001b[0;34m(\u001b[0m\u001b[0;34m\"docker pull clipper/tf_cifar_container:test\"\u001b[0m\u001b[0;34m)\u001b[0m\u001b[0;34m\u001b[0m\u001b[0m\n\u001b[1;32m    434\u001b[0m \u001b[0;34m\u001b[0m\u001b[0m\n",
      "\u001b[0;32m/Users/crankshaw/anaconda2/envs/clipper/lib/python2.7/site-packages/fabric/network.pyc\u001b[0m in \u001b[0;36mhost_prompting_wrapper\u001b[0;34m(*args, **kwargs)\u001b[0m\n\u001b[1;32m    675\u001b[0m                                     \" host string for connection: \")\n\u001b[1;32m    676\u001b[0m             \u001b[0menv\u001b[0m\u001b[0;34m.\u001b[0m\u001b[0mupdate\u001b[0m\u001b[0;34m(\u001b[0m\u001b[0mto_dict\u001b[0m\u001b[0;34m(\u001b[0m\u001b[0mhost_string\u001b[0m\u001b[0;34m)\u001b[0m\u001b[0;34m)\u001b[0m\u001b[0;34m\u001b[0m\u001b[0m\n\u001b[0;32m--> 677\u001b[0;31m         \u001b[0;32mreturn\u001b[0m \u001b[0mfunc\u001b[0m\u001b[0;34m(\u001b[0m\u001b[0;34m*\u001b[0m\u001b[0margs\u001b[0m\u001b[0;34m,\u001b[0m \u001b[0;34m**\u001b[0m\u001b[0mkwargs\u001b[0m\u001b[0;34m)\u001b[0m\u001b[0;34m\u001b[0m\u001b[0m\n\u001b[0m\u001b[1;32m    678\u001b[0m     \u001b[0mhost_prompting_wrapper\u001b[0m\u001b[0;34m.\u001b[0m\u001b[0mundecorated\u001b[0m \u001b[0;34m=\u001b[0m \u001b[0mfunc\u001b[0m\u001b[0;34m\u001b[0m\u001b[0m\n\u001b[1;32m    679\u001b[0m     \u001b[0;32mreturn\u001b[0m \u001b[0mhost_prompting_wrapper\u001b[0m\u001b[0;34m\u001b[0m\u001b[0m\n",
      "\u001b[0;32m/Users/crankshaw/anaconda2/envs/clipper/lib/python2.7/site-packages/fabric/operations.pyc\u001b[0m in \u001b[0;36msudo\u001b[0;34m(command, shell, pty, combine_stderr, user, quiet, warn_only, stdout, stderr, group, timeout, shell_escape, capture_buffer_size)\u001b[0m\n\u001b[1;32m   1144\u001b[0m         \u001b[0mgroup\u001b[0m\u001b[0;34m=\u001b[0m\u001b[0mgroup\u001b[0m\u001b[0;34m,\u001b[0m \u001b[0mquiet\u001b[0m\u001b[0;34m=\u001b[0m\u001b[0mquiet\u001b[0m\u001b[0;34m,\u001b[0m \u001b[0mwarn_only\u001b[0m\u001b[0;34m=\u001b[0m\u001b[0mwarn_only\u001b[0m\u001b[0;34m,\u001b[0m \u001b[0mstdout\u001b[0m\u001b[0;34m=\u001b[0m\u001b[0mstdout\u001b[0m\u001b[0;34m,\u001b[0m\u001b[0;34m\u001b[0m\u001b[0m\n\u001b[1;32m   1145\u001b[0m         \u001b[0mstderr\u001b[0m\u001b[0;34m=\u001b[0m\u001b[0mstderr\u001b[0m\u001b[0;34m,\u001b[0m \u001b[0mtimeout\u001b[0m\u001b[0;34m=\u001b[0m\u001b[0mtimeout\u001b[0m\u001b[0;34m,\u001b[0m \u001b[0mshell_escape\u001b[0m\u001b[0;34m=\u001b[0m\u001b[0mshell_escape\u001b[0m\u001b[0;34m,\u001b[0m\u001b[0;34m\u001b[0m\u001b[0m\n\u001b[0;32m-> 1146\u001b[0;31m         \u001b[0mcapture_buffer_size\u001b[0m\u001b[0;34m=\u001b[0m\u001b[0mcapture_buffer_size\u001b[0m\u001b[0;34m,\u001b[0m\u001b[0;34m\u001b[0m\u001b[0m\n\u001b[0m\u001b[1;32m   1147\u001b[0m     )\n\u001b[1;32m   1148\u001b[0m \u001b[0;34m\u001b[0m\u001b[0m\n",
      "\u001b[0;32m/Users/crankshaw/anaconda2/envs/clipper/lib/python2.7/site-packages/fabric/operations.pyc\u001b[0m in \u001b[0;36m_run_command\u001b[0;34m(command, shell, pty, combine_stderr, sudo, user, quiet, warn_only, stdout, stderr, group, timeout, shell_escape, capture_buffer_size)\u001b[0m\n\u001b[1;32m    929\u001b[0m             \u001b[0mcombine_stderr\u001b[0m\u001b[0;34m=\u001b[0m\u001b[0mcombine_stderr\u001b[0m\u001b[0;34m,\u001b[0m \u001b[0minvoke_shell\u001b[0m\u001b[0;34m=\u001b[0m\u001b[0mFalse\u001b[0m\u001b[0;34m,\u001b[0m \u001b[0mstdout\u001b[0m\u001b[0;34m=\u001b[0m\u001b[0mstdout\u001b[0m\u001b[0;34m,\u001b[0m\u001b[0;34m\u001b[0m\u001b[0m\n\u001b[1;32m    930\u001b[0m             \u001b[0mstderr\u001b[0m\u001b[0;34m=\u001b[0m\u001b[0mstderr\u001b[0m\u001b[0;34m,\u001b[0m \u001b[0mtimeout\u001b[0m\u001b[0;34m=\u001b[0m\u001b[0mtimeout\u001b[0m\u001b[0;34m,\u001b[0m\u001b[0;34m\u001b[0m\u001b[0m\n\u001b[0;32m--> 931\u001b[0;31m             capture_buffer_size=capture_buffer_size)\n\u001b[0m\u001b[1;32m    932\u001b[0m \u001b[0;34m\u001b[0m\u001b[0m\n\u001b[1;32m    933\u001b[0m         \u001b[0;31m# Assemble output string\u001b[0m\u001b[0;34m\u001b[0m\u001b[0;34m\u001b[0m\u001b[0m\n",
      "\u001b[0;32m/Users/crankshaw/anaconda2/envs/clipper/lib/python2.7/site-packages/fabric/operations.pyc\u001b[0m in \u001b[0;36m_execute\u001b[0;34m(channel, command, pty, combine_stderr, invoke_shell, stdout, stderr, timeout, capture_buffer_size)\u001b[0m\n\u001b[1;32m    813\u001b[0m                     \u001b[0mworker\u001b[0m\u001b[0;34m.\u001b[0m\u001b[0mraise_if_needed\u001b[0m\u001b[0;34m(\u001b[0m\u001b[0;34m)\u001b[0m\u001b[0;34m\u001b[0m\u001b[0m\n\u001b[1;32m    814\u001b[0m             \u001b[0;32mtry\u001b[0m\u001b[0;34m:\u001b[0m\u001b[0;34m\u001b[0m\u001b[0m\n\u001b[0;32m--> 815\u001b[0;31m                 \u001b[0mtime\u001b[0m\u001b[0;34m.\u001b[0m\u001b[0msleep\u001b[0m\u001b[0;34m(\u001b[0m\u001b[0mssh\u001b[0m\u001b[0;34m.\u001b[0m\u001b[0mio_sleep\u001b[0m\u001b[0;34m)\u001b[0m\u001b[0;34m\u001b[0m\u001b[0m\n\u001b[0m\u001b[1;32m    816\u001b[0m             \u001b[0;32mexcept\u001b[0m \u001b[0mKeyboardInterrupt\u001b[0m\u001b[0;34m:\u001b[0m\u001b[0;34m\u001b[0m\u001b[0m\n\u001b[1;32m    817\u001b[0m                 \u001b[0;32mif\u001b[0m \u001b[0;32mnot\u001b[0m \u001b[0mremote_interrupt\u001b[0m\u001b[0;34m:\u001b[0m\u001b[0;34m\u001b[0m\u001b[0m\n",
      "\u001b[0;31mKeyboardInterrupt\u001b[0m: "
     ]
    }
   ],
   "source": [
    "%load_ext autoreload\n",
    "%autoreload 2\n",
    "import os\n",
    "import cifar_utils\n",
    "import seaborn as sns\n",
    "sns.set_style(\"whitegrid\")\n",
    "sns.despine()\n",
    "import matplotlib as mpl\n",
    "%matplotlib notebook\n",
    "mpl.rcParams['savefig.dpi'] = 80\n",
    "mpl.rcParams['figure.dpi'] = 80\n",
    "%config NotebookBackend.print_figure_kwargs = {'bbox_inches':None}\n",
    "\n",
    "from traitlets.config.manager import BaseJSONConfigManager\n",
    "cfg_path = \"/Users/crankshaw/anaconda2/envs/clipper/etc/jupyter/nbconfig\"\n",
    "cm = BaseJSONConfigManager(config_dir=cfg_path)\n",
    "cm.update('livereveal', {\n",
    "              'theme': 'simple',\n",
    "              'transition': 'none',\n",
    "              'start_slideshow_at': 'selected',\n",
    "              'width': 1024,\n",
    "              'height': 600,\n",
    "})\n",
    "\n",
    "import clipper_manager as cl\n",
    "ec2_host = \"ec2-54-67-123-237.us-west-1.compute.amazonaws.com\"\n",
    "user = \"ubuntu\"\n",
    "key = os.path.expanduser(\"~/.ssh/aws_rsa\")\n",
    "clipper = cl.Cluster(ec2_host, user, key)\n",
    "clipper.cleanup()\n",
    "clipper.pull_docker_images()\n",
    "\n",
    "cifar_path = os.path.expanduser(\"~/model-serving/data/cifar\")\n",
    "test_x, test_y = cifar_utils.filter_data(\n",
    "    *cifar_utils.load_cifar(cifar_path, cifar_filename=\"cifar_test.data\", norm=True))\n",
    "no_norm_x, no_norm_y = cifar_utils.filter_data(\n",
    "    *cifar_utils.load_cifar(cifar_path, cifar_filename=\"cifar_test.data\", norm=False))\n"
   ]
  },
  {
   "cell_type": "markdown",
   "metadata": {
    "slideshow": {
     "slide_type": "slide"
    }
   },
   "source": [
    "<h2 align=\"center\">Is it a bird? Is it a plane? It's probably not Superman...</h2> \n",
    "![Alt](superman.png#center)"
   ]
  },
  {
   "cell_type": "code",
   "execution_count": null,
   "metadata": {
    "collapsed": false,
    "slideshow": {
     "slide_type": "slide"
    }
   },
   "outputs": [],
   "source": [
    "%matplotlib inline\n",
    "cifar_utils.show_example_images(no_norm_x, no_norm_y, 2)"
   ]
  },
  {
   "cell_type": "markdown",
   "metadata": {
    "slideshow": {
     "slide_type": "slide"
    }
   },
   "source": [
    "# Starting Clipper"
   ]
  },
  {
   "cell_type": "code",
   "execution_count": null,
   "metadata": {
    "collapsed": false,
    "slideshow": {
     "slide_type": "slide"
    }
   },
   "outputs": [],
   "source": [
    "import clipper_manager as cl\n",
    "ec2_host = \"ec2-54-67-123-237.us-west-1.compute.amazonaws.com\"\n",
    "user = \"ubuntu\"\n",
    "key = os.path.expanduser(\"~/.ssh/aws_rsa\")\n",
    "clipper = cl.Cluster(ec2_host, user, key)\n",
    "\n",
    "clipper.start_clipper()"
   ]
  },
  {
   "cell_type": "code",
   "execution_count": null,
   "metadata": {
    "collapsed": false,
    "slideshow": {
     "slide_type": "fragment"
    }
   },
   "outputs": [],
   "source": [
    "clipper.list_apps()"
   ]
  },
  {
   "cell_type": "markdown",
   "metadata": {
    "slideshow": {
     "slide_type": "slide"
    }
   },
   "source": [
    "# Create an application"
   ]
  },
  {
   "cell_type": "code",
   "execution_count": null,
   "metadata": {
    "collapsed": false,
    "slideshow": {
     "slide_type": "slide"
    }
   },
   "outputs": [],
   "source": [
    "app_name = \"superman_detection\"\n",
    "candidate_models = [\n",
    "    {\"model_name\": \"sklearn_cifar\", \"model_version\": 1},\n",
    "    {\"model_name\": \"tf_cifar\", \"model_version\": 1},\n",
    "]\n",
    "\n",
    "clipper.register_application(\n",
    "    name=app_name,\n",
    "    candidate_models=candidate_models,\n",
    "    input_type=\"doubles\",\n",
    "    slo_micros=20000)"
   ]
  },
  {
   "cell_type": "code",
   "execution_count": null,
   "metadata": {
    "collapsed": false,
    "slideshow": {
     "slide_type": "fragment"
    }
   },
   "outputs": [],
   "source": [
    "clipper.list_apps()"
   ]
  },
  {
   "cell_type": "markdown",
   "metadata": {
    "slideshow": {
     "slide_type": "slide"
    }
   },
   "source": [
    "# Start serving"
   ]
  },
  {
   "cell_type": "markdown",
   "metadata": {
    "slideshow": {
     "slide_type": "fragment"
    }
   },
   "source": [
    "```python\n",
    "def superman_detection_client(uid, x):\n",
    "    url = \"http://{host}/{app}/predict\"\n",
    "    request_json = json.dumps(\n",
    "        {'uid': uid, 'input': x})\n",
    "    pred = requests.post(url, request_json)\n",
    "    return pred\n",
    "```"
   ]
  },
  {
   "cell_type": "code",
   "execution_count": null,
   "metadata": {
    "collapsed": false,
    "scrolled": false,
    "slideshow": {
     "slide_type": "slide"
    }
   },
   "outputs": [],
   "source": [
    "%matplotlib notebook\n",
    "cifar_utils.run_serving_workload(ec2_host,\n",
    "                                 app_name,\n",
    "                                 test_x, test_y)"
   ]
  },
  {
   "cell_type": "markdown",
   "metadata": {
    "collapsed": true,
    "slideshow": {
     "slide_type": "slide"
    }
   },
   "source": [
    "So what we've just seen is..."
   ]
  },
  {
   "cell_type": "markdown",
   "metadata": {
    "slideshow": {
     "slide_type": "fragment"
    }
   },
   "source": [
    "+ Easy for developer to create and query application"
   ]
  },
  {
   "cell_type": "markdown",
   "metadata": {
    "slideshow": {
     "slide_type": "fragment"
    }
   },
   "source": [
    "+ Easy for data scientist to improve application accuracy while using heterogeneous models"
   ]
  },
  {
   "cell_type": "markdown",
   "metadata": {
    "slideshow": {
     "slide_type": "fragment"
    }
   },
   "source": [
    "+ Interact with apps and models completely independently"
   ]
  }
 ],
 "metadata": {
  "celltoolbar": "Slideshow",
  "kernelspec": {
   "display_name": "Python 2",
   "language": "python",
   "name": "python2"
  },
  "language_info": {
   "codemirror_mode": {
    "name": "ipython",
    "version": 2
   },
   "file_extension": ".py",
   "mimetype": "text/x-python",
   "name": "python",
   "nbconvert_exporter": "python",
   "pygments_lexer": "ipython2",
   "version": "2.7.13"
  }
 },
 "nbformat": 4,
 "nbformat_minor": 0
}
