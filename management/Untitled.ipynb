{
 "cells": [
  {
   "cell_type": "code",
   "execution_count": 3,
   "metadata": {
    "collapsed": false
   },
   "outputs": [
    {
     "name": "stderr",
     "output_type": "stream",
     "text": [
      "WARNING:pssh:Logger already has a StreamHandler attached\n"
     ]
    }
   ],
   "source": [
    "from pssh import ParallelSSHClient, utils\n",
    "import os\n",
    "import logging\n",
    "\n",
    "logging.basicConfig()\n",
    "utils.enable_host_logger()\n"
   ]
  },
  {
   "cell_type": "code",
   "execution_count": 4,
   "metadata": {
    "collapsed": false
   },
   "outputs": [],
   "source": [
    "key = utils.load_private_key(os.path.expanduser(\"~/.ssh/aws_rsa\"))\n",
    "\n",
    "client = ParallelSSHClient([\"ec2-54-197-39-235.compute-1.amazonaws.com\"], user=\"ubuntu\",pkey=key)"
   ]
  },
  {
   "cell_type": "code",
   "execution_count": 5,
   "metadata": {
    "collapsed": false
   },
   "outputs": [
    {
     "data": {
      "text/plain": [
       "{'ec2-54-197-39-235.compute-1.amazonaws.com': {'channel': <paramiko.Channel 0 (open) window=2097152 -> <paramiko.Transport at 0x6c64610L (cipher aes128-ctr, 128 bits) (active; 1 open channel(s))>>,\n",
       "  'cmd': <Greenlet at 0x107601e10>,\n",
       "  'exception': None,\n",
       "  'exit_code': None,\n",
       "  'stderr': <generator object _read_buff_ex_code at 0x107df3b90>,\n",
       "  'stdout': <generator object _read_buff_ex_code at 0x107625b40>}}"
      ]
     },
     "execution_count": 5,
     "metadata": {},
     "output_type": "execute_result"
    }
   ],
   "source": [
    "client.run_command(\"touch ~/test12345.txt\")"
   ]
  },
  {
   "cell_type": "code",
   "execution_count": 12,
   "metadata": {
    "collapsed": false
   },
   "outputs": [
    {
     "data": {
      "text/plain": [
       "[<Greenlet at 0x1079c7870: <bound method ParallelSSHClient._copy_file of <pssh.pssh_client.ParallelSSHClient object at 0x107964090>>('ec2-54-197-39-235.compute-1.amazonaws.com', '/Users/crankshaw/Dropbox/berkeley/amplab/clipper/, 'ddd/eee', {'recurse': True})>]"
      ]
     },
     "execution_count": 12,
     "metadata": {},
     "output_type": "execute_result"
    }
   ],
   "source": [
    "local_path = os.path.abspath(\"../model_wrappers/python/test_models\")\n",
    "client.copy_file(local_path, \"ddd/eee\", recurse=True)"
   ]
  },
  {
   "cell_type": "code",
   "execution_count": 13,
   "metadata": {
    "collapsed": false
   },
   "outputs": [
    {
     "name": "stderr",
     "output_type": "stream",
     "text": [
      "ERROR:pssh.ssh_client:Error occured copying file /Users/crankshaw/Dropbox/berkeley/amplab/clipper/model_wrappers/python/test_models/a.txt to remote destination ec2-54-197-39-235.compute-1.amazonaws.com:ddd/eee/a.txt - [Errno 2] No such file\n",
      "ERROR:pssh.ssh_client:Error occured copying file /Users/crankshaw/Dropbox/berkeley/amplab/clipper/model_wrappers/python/test_models/b.txt to remote destination ec2-54-197-39-235.compute-1.amazonaws.com:ddd/eee/b.txt - [Errno 2] No such file\n"
     ]
    }
   ],
   "source": [
    "client.pool.join()"
   ]
  },
  {
   "cell_type": "code",
   "execution_count": 11,
   "metadata": {
    "collapsed": false
   },
   "outputs": [
    {
     "ename": "AttributeError",
     "evalue": "'ParallelSSHClient' object has no attribute 'mkdir'",
     "output_type": "error",
     "traceback": [
      "\u001b[0;31m---------------------------------------------------------------------------\u001b[0m",
      "\u001b[0;31mAttributeError\u001b[0m                            Traceback (most recent call last)",
      "\u001b[0;32m<ipython-input-11-0b36d54a07ba>\u001b[0m in \u001b[0;36m<module>\u001b[0;34m()\u001b[0m\n\u001b[0;32m----> 1\u001b[0;31m \u001b[0mclient\u001b[0m\u001b[0;34m.\u001b[0m\u001b[0mmkdir\u001b[0m\u001b[0;34m(\u001b[0m\u001b[0;34m\"/tmp/abd\"\u001b[0m\u001b[0;34m)\u001b[0m\u001b[0;34m\u001b[0m\u001b[0m\n\u001b[0m",
      "\u001b[0;31mAttributeError\u001b[0m: 'ParallelSSHClient' object has no attribute 'mkdir'"
     ]
    }
   ],
   "source": [
    "client.mkdir(\"/tmp/abd\")"
   ]
  },
  {
   "cell_type": "code",
   "execution_count": null,
   "metadata": {
    "collapsed": true
   },
   "outputs": [],
   "source": []
  }
 ],
 "metadata": {
  "kernelspec": {
   "display_name": "Python 2",
   "language": "python",
   "name": "python2"
  },
  "language_info": {
   "codemirror_mode": {
    "name": "ipython",
    "version": 2
   },
   "file_extension": ".py",
   "mimetype": "text/x-python",
   "name": "python",
   "nbconvert_exporter": "python",
   "pygments_lexer": "ipython2",
   "version": "2.7.12"
  }
 },
 "nbformat": 4,
 "nbformat_minor": 0
}
