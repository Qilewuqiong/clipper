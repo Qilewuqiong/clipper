{
 "cells": [
  {
   "cell_type": "code",
   "execution_count": 24,
   "metadata": {
    "collapsed": false
   },
   "outputs": [
    {
     "name": "stdout",
     "output_type": "stream",
     "text": [
      "The autoreload extension is already loaded. To reload it, use:\n",
      "  %reload_ext autoreload\n"
     ]
    }
   ],
   "source": [
    "%load_ext autoreload\n",
    "%autoreload 2\n",
    "import clipper_manager as cl\n",
    "import os\n",
    "import pandas as pd\n",
    "import numpy as np\n",
    "from sklearn import linear_model as lm\n",
    "from sklearn import svm\n",
    "# import sklearn.ensemble.RandomForestClassifier as RFC\n",
    "from sklearn.ensemble import RandomForestClassifier as RFC\n",
    "from sklearn.externals import joblib\n",
    "import sys\n"
   ]
  },
  {
   "cell_type": "markdown",
   "metadata": {},
   "source": [
    "# Train a Scikit-Learn model"
   ]
  },
  {
   "cell_type": "code",
   "execution_count": 2,
   "metadata": {
    "collapsed": false
   },
   "outputs": [
    {
     "name": "stdout",
     "output_type": "stream",
     "text": [
      "Training logistic regression\n",
      "Source file: /Users/crankshaw/model-serving/data/mnist_data/train.data\n",
      "Number of image files: 60000\n",
      "Done training logistic regression model\n"
     ]
    }
   ],
   "source": [
    "def load_digits(digits_location, digits_filename = \"train.data\", norm=True):\n",
    "    digits_path = digits_location + \"/\" + digits_filename\n",
    "    print(\"Source file: %s\" % digits_path)\n",
    "    df = pd.read_csv(digits_path, sep=\",\", header=None)\n",
    "    data = df.values\n",
    "    print(\"Number of image files: %d\" % len(data))\n",
    "    y = data[:,0]\n",
    "    X = data[:,1:]\n",
    "    Z = X\n",
    "    if norm:\n",
    "        mu = np.mean(X,0)\n",
    "        sigma = np.var(X,0)\n",
    "        Z = (X - mu) / np.array([np.sqrt(z) if z > 0 else 1. for z in sigma])\n",
    "    label = 3\n",
    "    my_y = [1. if i == label else -1.0 for i in y]\n",
    "    return (Z, my_y)\n",
    "\n",
    "label = 3\n",
    "\n",
    "fname = \"log_regression\"\n",
    "path = '/tmp/%s/%s.pkl' % (fname, fname)\n",
    "print(\"Training logistic regression\")\n",
    "X, y = load_digits(os.path.expanduser(\"~/model-serving/data/mnist_data\"))\n",
    "model = lm.LogisticRegression()\n",
    "model.fit(X, y)\n",
    "try:\n",
    "    os.mkdir('/tmp/%s' % fname)\n",
    "except OSError:\n",
    "    print(\"directory already exists. Might overwrite existing file\")\n",
    "joblib.dump(model, path) \n",
    "print(\"Done training logistic regression model\")\n",
    "\n"
   ]
  },
  {
   "cell_type": "code",
   "execution_count": 32,
   "metadata": {
    "collapsed": false,
    "scrolled": true
   },
   "outputs": [
    {
     "name": "stdout",
     "output_type": "stream",
     "text": [
      "[ec2-54-158-88-117.compute-1.amazonaws.com] sudo: docker stop $(docker ps -a -q)\n",
      "[ec2-54-158-88-117.compute-1.amazonaws.com] out: f48244d1222a\n",
      "[ec2-54-158-88-117.compute-1.amazonaws.com] out: f84a36ad95bd\n",
      "[ec2-54-158-88-117.compute-1.amazonaws.com] out: 90ea7dc7d3ad\n",
      "[ec2-54-158-88-117.compute-1.amazonaws.com] out: \n",
      "\n",
      "[ec2-54-158-88-117.compute-1.amazonaws.com] sudo: docker rm $(docker ps -a -q)\n",
      "[ec2-54-158-88-117.compute-1.amazonaws.com] out: f48244d1222a\n",
      "[ec2-54-158-88-117.compute-1.amazonaws.com] out: f84a36ad95bd\n",
      "[ec2-54-158-88-117.compute-1.amazonaws.com] out: 90ea7dc7d3ad\n",
      "[ec2-54-158-88-117.compute-1.amazonaws.com] out: \n",
      "\n",
      "ubuntu\n",
      "[]\n",
      "[ec2-54-158-88-117.compute-1.amazonaws.com] sudo: docker ps\n",
      "[ec2-54-158-88-117.compute-1.amazonaws.com] out: CONTAINER ID        IMAGE               COMMAND             CREATED             STATUS              PORTS               NAMES\n",
      "[ec2-54-158-88-117.compute-1.amazonaws.com] out: \n",
      "\n",
      "[ec2-54-158-88-117.compute-1.amazonaws.com] sudo: docker network create --driver bridge clipper_nw\n",
      "[ec2-54-158-88-117.compute-1.amazonaws.com] out: Error response from daemon: network with name clipper_nw already exists\n",
      "[ec2-54-158-88-117.compute-1.amazonaws.com] out: \n",
      "\n",
      "[ec2-54-158-88-117.compute-1.amazonaws.com] run: mkdir -p /tmp/clipper-models\n",
      "[ec2-54-158-88-117.compute-1.amazonaws.com] run: rm ~/conf.toml\n",
      "[ec2-54-158-88-117.compute-1.amazonaws.com] run: echo 'models = []\n",
      "redis_port = 6379\n",
      "use_lsh = false\n",
      "window_size = -1\n",
      "name = \"clipper-demo\"\n",
      "input_type = \"float\"\n",
      "num_update_workers = 1\n",
      "num_predict_workers = 1\n",
      "redis_ip = \"redis-clipper\"\n",
      "cache_size = 49999\n",
      "slo_micros = 20000\n",
      "correction_policy = \"logistic_regression\"\n",
      "input_length = 784\n",
      "[batching]\n",
      "sample_size = 1000\n",
      "strategy = \"learned\"\n",
      "' >> \"$(echo ~/conf.toml)\"\n",
      "[ec2-54-158-88-117.compute-1.amazonaws.com] sudo: docker run -d --network=clipper_nw -p 6379:6379 --cpuset-cpus=\"0\" --name redis-clipper redis:alpine\n",
      "[ec2-54-158-88-117.compute-1.amazonaws.com] out: 0200392a6d8c15572be92ebc241ef62a8000fadda3de40167ad7b267babd9163\n",
      "[ec2-54-158-88-117.compute-1.amazonaws.com] out: \n",
      "\n",
      "[ec2-54-158-88-117.compute-1.amazonaws.com] sudo: docker run -d --network=clipper_nw -p 1337:1337 --cpuset-cpus=\"1-4\" --name clipper -v ~/conf.toml:/tmp/conf.toml dcrankshaw/clipper\n",
      "[ec2-54-158-88-117.compute-1.amazonaws.com] out: a668ec05a1a0bb14ff382f72865fd6382ab6fbb0aadce2325c825313be17ef1b\n",
      "[ec2-54-158-88-117.compute-1.amazonaws.com] out: \n",
      "\n"
     ]
    },
    {
     "name": "stderr",
     "output_type": "stream",
     "text": [
      "\n",
      "Warning: sudo() received nonzero return code 1 while executing 'docker network create --driver bridge clipper_nw'!\n",
      "\n"
     ]
    }
   ],
   "source": [
    "clipper.stop_all()\n",
    "ec2_host = \"ec2-54-158-88-117.compute-1.amazonaws.com\"\n",
    "user = \"ubuntu\"\n",
    "key = os.path.expanduser(\"~/.ssh/aws_rsa\")\n",
    "\n",
    "clipper = cl.Cluster(ec2_host, user, key)\n",
    "clipper.start_clipper()"
   ]
  },
  {
   "cell_type": "code",
   "execution_count": 33,
   "metadata": {
    "collapsed": false
   },
   "outputs": [
    {
     "name": "stdout",
     "output_type": "stream",
     "text": [
      "/tmp/clipper-models/sklearn_logistic_regression/1\n",
      "[ec2-54-158-88-117.compute-1.amazonaws.com] run: mkdir -p /tmp/clipper-models/sklearn_logistic_regression/1\n",
      "[ec2-54-158-88-117.compute-1.amazonaws.com] put: /tmp/log_regression/log_regression.pkl -> /tmp/clipper-models/sklearn_logistic_regression/1/./log_regression/log_regression.pkl\n",
      "[ec2-54-158-88-117.compute-1.amazonaws.com] put: /tmp/log_regression/log_regression.pkl_01.npy -> /tmp/clipper-models/sklearn_logistic_regression/1/./log_regression/log_regression.pkl_01.npy\n",
      "[ec2-54-158-88-117.compute-1.amazonaws.com] put: /tmp/log_regression/log_regression.pkl_02.npy -> /tmp/clipper-models/sklearn_logistic_regression/1/./log_regression/log_regression.pkl_02.npy\n",
      "[ec2-54-158-88-117.compute-1.amazonaws.com] put: /tmp/log_regression/log_regression.pkl_03.npy -> /tmp/clipper-models/sklearn_logistic_regression/1/./log_regression/log_regression.pkl_03.npy\n",
      "[ec2-54-158-88-117.compute-1.amazonaws.com] put: /tmp/log_regression/log_regression.pkl_04.npy -> /tmp/clipper-models/sklearn_logistic_regression/1/./log_regression/log_regression.pkl_04.npy\n",
      "[ec2-54-158-88-117.compute-1.amazonaws.com] sudo: docker stop sklearn_logistic_regression_v1_r0\n",
      "[ec2-54-158-88-117.compute-1.amazonaws.com] out: Error response from daemon: No such container: sklearn_logistic_regression_v1_r0\n",
      "[ec2-54-158-88-117.compute-1.amazonaws.com] out: \n",
      "\n",
      "[ec2-54-158-88-117.compute-1.amazonaws.com] sudo: docker rm sklearn_logistic_regression_v1_r0\n",
      "[ec2-54-158-88-117.compute-1.amazonaws.com] out: Error response from daemon: No such container: sklearn_logistic_regression_v1_r0\n",
      "[ec2-54-158-88-117.compute-1.amazonaws.com] out: \n"
     ]
    },
    {
     "name": "stderr",
     "output_type": "stream",
     "text": [
      "\n",
      "Warning: sudo() received nonzero return code 1 while executing 'docker stop sklearn_logistic_regression_v1_r0'!\n",
      "\n",
      "\n",
      "Warning: sudo() received nonzero return code 1 while executing 'docker rm sklearn_logistic_regression_v1_r0'!\n",
      "\n"
     ]
    },
    {
     "name": "stdout",
     "output_type": "stream",
     "text": [
      "\n",
      "[ec2-54-158-88-117.compute-1.amazonaws.com] sudo: docker run -d --network=clipper_nw --name sklearn_logistic_regression_v1_r0 -v /tmp/clipper-models/sklearn_logistic_regression/1/log_regression:/model:ro dcrankshaw/clipper-sklearn-mw\n",
      "[ec2-54-158-88-117.compute-1.amazonaws.com] out: c334302189784202bbaf95d94796363f25d64dde5537464fdc0f0088226cf82a\n",
      "[ec2-54-158-88-117.compute-1.amazonaws.com] out: \n",
      "\n"
     ]
    }
   ],
   "source": [
    "clipper.add_sklearn_model(\"sklearn_logistic_regression\", \"/tmp/log_regression\")"
   ]
  },
  {
   "cell_type": "code",
   "execution_count": 34,
   "metadata": {
    "collapsed": false
   },
   "outputs": [
    {
     "name": "stdout",
     "output_type": "stream",
     "text": [
      "{\n",
      "    \"meters\": [\n",
      "        {\n",
      "            \"rate\": 0.0, \n",
      "            \"name\": \"prediction_thruput\", \n",
      "            \"unit\": \"events per second\"\n",
      "        }, \n",
      "        {\n",
      "            \"rate\": 0.0, \n",
      "            \"name\": \"update_thruput\", \n",
      "            \"unit\": \"events per second\"\n",
      "        }, \n",
      "        {\n",
      "            \"rate\": 0.0, \n",
      "            \"name\": \"sklearn_logistic_regression_model_thruput\", \n",
      "            \"unit\": \"events per second\"\n",
      "        }\n",
      "    ], \n",
      "    \"histograms\": [\n",
      "        {\n",
      "            \"std\": 0.0, \n",
      "            \"p99\": 0.0, \n",
      "            \"name\": \"prediction_latency\", \n",
      "            \"min\": 0, \n",
      "            \"max\": 0, \n",
      "            \"p95\": 0.0, \n",
      "            \"p50\": 0.0, \n",
      "            \"mean\": 0.0\n",
      "        }, \n",
      "        {\n",
      "            \"std\": 0.0, \n",
      "            \"p99\": 0.0, \n",
      "            \"name\": \"in_time_predictions\", \n",
      "            \"min\": 0, \n",
      "            \"max\": 0, \n",
      "            \"p95\": 0.0, \n",
      "            \"p50\": 0.0, \n",
      "            \"mean\": 0.0\n",
      "        }, \n",
      "        {\n",
      "            \"std\": 0.0, \n",
      "            \"p99\": 0.0, \n",
      "            \"name\": \"update_latency\", \n",
      "            \"min\": 0, \n",
      "            \"max\": 0, \n",
      "            \"p95\": 0.0, \n",
      "            \"p50\": 0.0, \n",
      "            \"mean\": 0.0\n",
      "        }, \n",
      "        {\n",
      "            \"std\": 0.0, \n",
      "            \"p99\": 0.0, \n",
      "            \"name\": \"sklearn_logistic_regression_model_latency\", \n",
      "            \"min\": 0, \n",
      "            \"max\": 0, \n",
      "            \"p95\": 0.0, \n",
      "            \"p50\": 0.0, \n",
      "            \"mean\": 0.0\n",
      "        }, \n",
      "        {\n",
      "            \"std\": 0.0, \n",
      "            \"p99\": 0.0, \n",
      "            \"name\": \"sklearn_logistic_regression_model_batch_size\", \n",
      "            \"min\": 0, \n",
      "            \"max\": 0, \n",
      "            \"p95\": 0.0, \n",
      "            \"p50\": 0.0, \n",
      "            \"mean\": 0.0\n",
      "        }\n",
      "    ], \n",
      "    \"ratio_counters\": [\n",
      "        {\n",
      "            \"ratio\": null, \n",
      "            \"name\": \"prediction accuracy ratio\"\n",
      "        }, \n",
      "        {\n",
      "            \"ratio\": null, \n",
      "            \"name\": \"cache_hits\"\n",
      "        }\n",
      "    ], \n",
      "    \"name\": \"clipper-demo\", \n",
      "    \"counters\": [\n",
      "        {\n",
      "            \"count\": 0, \n",
      "            \"name\": \"prediction_counter\"\n",
      "        }, \n",
      "        {\n",
      "            \"count\": 0, \n",
      "            \"name\": \"queued_predictions\"\n",
      "        }, \n",
      "        {\n",
      "            \"count\": 0, \n",
      "            \"name\": \"update_counter\"\n",
      "        }, \n",
      "        {\n",
      "            \"count\": 0, \n",
      "            \"name\": \"queued_updates\"\n",
      "        }, \n",
      "        {\n",
      "            \"count\": 0, \n",
      "            \"name\": \"sklearn_logistic_regression_prediction_counter\"\n",
      "        }\n",
      "    ]\n",
      "}\n"
     ]
    }
   ],
   "source": [
    "clipper.get_metrics()"
   ]
  },
  {
   "cell_type": "code",
   "execution_count": null,
   "metadata": {
    "collapsed": false,
    "scrolled": true
   },
   "outputs": [],
   "source": [
    "# clipper.start_clipper(config=\"/Users/crankshaw/clipper/clipper_server/conf/test.toml\")\n",
    "clipper.start_clipper()"
   ]
  },
  {
   "cell_type": "code",
   "execution_count": 4,
   "metadata": {
    "collapsed": false
   },
   "outputs": [
    {
     "name": "stdout",
     "output_type": "stream",
     "text": [
      "[ec2-54-158-88-117.compute-1.amazonaws.com] sudo: docker stop $(docker ps -a -q)\n",
      "[ec2-54-158-88-117.compute-1.amazonaws.com] out: 2391a5d5f5fd\n",
      "[ec2-54-158-88-117.compute-1.amazonaws.com] out: fb5e3300333a\n",
      "[ec2-54-158-88-117.compute-1.amazonaws.com] out: \n",
      "\n",
      "[ec2-54-158-88-117.compute-1.amazonaws.com] sudo: docker rm $(docker ps -a -q)\n",
      "[ec2-54-158-88-117.compute-1.amazonaws.com] out: 2391a5d5f5fd\n",
      "[ec2-54-158-88-117.compute-1.amazonaws.com] out: fb5e3300333a\n",
      "[ec2-54-158-88-117.compute-1.amazonaws.com] out: \n",
      "\n"
     ]
    }
   ],
   "source": [
    "clipper.stop_all()"
   ]
  },
  {
   "cell_type": "code",
   "execution_count": null,
   "metadata": {
    "collapsed": false
   },
   "outputs": [],
   "source": [
    "clipper.get_metrics()"
   ]
  },
  {
   "cell_type": "code",
   "execution_count": null,
   "metadata": {
    "collapsed": true
   },
   "outputs": [],
   "source": []
  }
 ],
 "metadata": {
  "kernelspec": {
   "display_name": "Python 2",
   "language": "python",
   "name": "python2"
  },
  "language_info": {
   "codemirror_mode": {
    "name": "ipython",
    "version": 2
   },
   "file_extension": ".py",
   "mimetype": "text/x-python",
   "name": "python",
   "nbconvert_exporter": "python",
   "pygments_lexer": "ipython2",
   "version": "2.7.12"
  }
 },
 "nbformat": 4,
 "nbformat_minor": 0
}
