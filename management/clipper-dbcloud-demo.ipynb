{
 "cells": [
  {
   "cell_type": "code",
   "execution_count": null,
   "metadata": {
    "collapsed": false
   },
   "outputs": [],
   "source": [
    "%load_ext autoreload\n",
    "%autoreload 2\n",
    "import clipper_manager as cl\n",
    "import os\n",
    "import pandas as pd\n",
    "import numpy as np\n",
    "from sklearn import linear_model as lm\n",
    "from sklearn import svm\n",
    "from sklearn.ensemble import RandomForestClassifier as RFC\n",
    "from sklearn.externals import joblib\n",
    "import sys\n",
    "import json\n"
   ]
  },
  {
   "cell_type": "markdown",
   "metadata": {},
   "source": [
    "# Train a Scikit-Learn model"
   ]
  },
  {
   "cell_type": "code",
   "execution_count": null,
   "metadata": {
    "collapsed": false
   },
   "outputs": [],
   "source": [
    "def load_digits(digits_location, digits_filename = \"train.data\", norm=True):\n",
    "    digits_path = digits_location + \"/\" + digits_filename\n",
    "    print(\"Source file: %s\" % digits_path)\n",
    "    df = pd.read_csv(digits_path, sep=\",\", header=None)\n",
    "    data = df.values\n",
    "    print(\"Number of image files: %d\" % len(data))\n",
    "    y = data[:,0]\n",
    "    X = data[:,1:]\n",
    "    Z = X\n",
    "    if norm:\n",
    "        mu = np.mean(X,0)\n",
    "        sigma = np.var(X,0)\n",
    "        Z = (X - mu) / np.array([np.sqrt(z) if z > 0 else 1. for z in sigma])\n",
    "    return Z, y\n",
    "\n",
    "def filter_data(data):\n",
    "    cx, cy = data\n",
    "    binary_x = []\n",
    "    binary_y = []\n",
    "    for i in range(len(cy)):\n",
    "        if cy[i] == 3:\n",
    "            binary_x.append(cx[i,:])\n",
    "            binary_y.append(1.0)\n",
    "        elif cy[i] == 6:\n",
    "            binary_x.append(cx[i,:])\n",
    "            binary_y.append(0.0)\n",
    "    return np.array(binary_x), np.array(binary_y)\n",
    "            \n",
    "train_x, train_y = filter_data(load_digits(os.path.expanduser(\"~/model-serving/data/mnist_data\")))\n",
    "test_x, test_y = filter_data(load_digits(os.path.expanduser(\"~/model-serving/data/mnist_data\"), digits_filename=\"test.data\"))"
   ]
  },
  {
   "cell_type": "markdown",
   "metadata": {},
   "source": [
    "## Train a bad model"
   ]
  },
  {
   "cell_type": "code",
   "execution_count": null,
   "metadata": {
    "collapsed": false
   },
   "outputs": [],
   "source": [
    "rf_model = RFC(n_estimators=2, max_depth=1)\n",
    "rf_model.fit(train_x, train_y)\n",
    "rf_model.score(test_x, test_y)"
   ]
  },
  {
   "cell_type": "markdown",
   "metadata": {},
   "source": [
    "## Connect to EC2"
   ]
  },
  {
   "cell_type": "code",
   "execution_count": 46,
   "metadata": {
    "collapsed": false,
    "scrolled": true
   },
   "outputs": [
    {
     "name": "stdout",
     "output_type": "stream",
     "text": [
      "Checking if Docker running...\n",
      "Found Docker running\n",
      "Creating internal Docker network\n",
      "Creating local model repository\n"
     ]
    }
   ],
   "source": [
    "import clipper_manager as cl\n",
    "ec2_host = \"ec2-54-193-105-129.us-west-1.compute.amazonaws.com\"\n",
    "user = \"ubuntu\"\n",
    "key = os.path.expanduser(\"~/.ssh/aws_rsa\")\n",
    "clipper = cl.Cluster(ec2_host, user, key)"
   ]
  },
  {
   "cell_type": "markdown",
   "metadata": {},
   "source": [
    "## Start Clipper"
   ]
  },
  {
   "cell_type": "code",
   "execution_count": 53,
   "metadata": {
    "collapsed": false
   },
   "outputs": [
    {
     "name": "stdout",
     "output_type": "stream",
     "text": [
      "starting Clipper with default settings:\n",
      "models = []\n",
      "redis_port = 6379\n",
      "use_lsh = false\n",
      "window_size = -1\n",
      "name = \"clipper-demo\"\n",
      "input_type = \"float\"\n",
      "num_update_workers = 1\n",
      "num_predict_workers = 1\n",
      "redis_ip = \"redis-clipper\"\n",
      "cache_size = 49999\n",
      "slo_micros = 20000\n",
      "correction_policy = \"logistic_regression\"\n",
      "input_length = 784\n",
      "[batching]\n",
      "sample_size = 1000\n",
      "strategy = \"aimd\"\n",
      "\n",
      "[ec2-54-193-105-129.us-west-1.compute.amazonaws.com] sudo: docker run -d --network=clipper_nw -p 6379:6379 --cpuset-cpus=\"0\" --name redis-clipper redis:alpine\n",
      "[ec2-54-193-105-129.us-west-1.compute.amazonaws.com] sudo: docker run -d --network=clipper_nw -p 1337:1337 --cpuset-cpus=\"1-4\" --name clipper -v ~/conf.toml:/tmp/conf.toml dcrankshaw/clipper\n"
     ]
    }
   ],
   "source": [
    "clipper.start_clipper()"
   ]
  },
  {
   "cell_type": "code",
   "execution_count": 54,
   "metadata": {
    "collapsed": false,
    "scrolled": false
   },
   "outputs": [
    {
     "name": "stdout",
     "output_type": "stream",
     "text": [
      "{\n",
      "    \"meters\": [\n",
      "        {\n",
      "            \"rate\": 0.0, \n",
      "            \"name\": \"prediction_thruput\", \n",
      "            \"unit\": \"events per second\"\n",
      "        }, \n",
      "        {\n",
      "            \"rate\": 0.0, \n",
      "            \"name\": \"update_thruput\", \n",
      "            \"unit\": \"events per second\"\n",
      "        }\n",
      "    ], \n",
      "    \"histograms\": [\n",
      "        {\n",
      "            \"std\": 0.0, \n",
      "            \"p99\": 0.0, \n",
      "            \"name\": \"prediction_latency\", \n",
      "            \"min\": 0, \n",
      "            \"max\": 0, \n",
      "            \"p95\": 0.0, \n",
      "            \"p50\": 0.0, \n",
      "            \"mean\": 0.0\n",
      "        }, \n",
      "        {\n",
      "            \"std\": 0.0, \n",
      "            \"p99\": 0.0, \n",
      "            \"name\": \"in_time_predictions\", \n",
      "            \"min\": 0, \n",
      "            \"max\": 0, \n",
      "            \"p95\": 0.0, \n",
      "            \"p50\": 0.0, \n",
      "            \"mean\": 0.0\n",
      "        }, \n",
      "        {\n",
      "            \"std\": 0.0, \n",
      "            \"p99\": 0.0, \n",
      "            \"name\": \"update_latency\", \n",
      "            \"min\": 0, \n",
      "            \"max\": 0, \n",
      "            \"p95\": 0.0, \n",
      "            \"p50\": 0.0, \n",
      "            \"mean\": 0.0\n",
      "        }\n",
      "    ], \n",
      "    \"ratio_counters\": [\n",
      "        {\n",
      "            \"ratio\": null, \n",
      "            \"name\": \"prediction accuracy ratio\"\n",
      "        }, \n",
      "        {\n",
      "            \"ratio\": null, \n",
      "            \"name\": \"cache_hits\"\n",
      "        }\n",
      "    ], \n",
      "    \"name\": \"clipper-demo\", \n",
      "    \"counters\": [\n",
      "        {\n",
      "            \"count\": 0, \n",
      "            \"name\": \"prediction_counter\"\n",
      "        }, \n",
      "        {\n",
      "            \"count\": 0, \n",
      "            \"name\": \"queued_predictions\"\n",
      "        }, \n",
      "        {\n",
      "            \"count\": 0, \n",
      "            \"name\": \"update_counter\"\n",
      "        }, \n",
      "        {\n",
      "            \"count\": 0, \n",
      "            \"name\": \"queued_updates\"\n",
      "        }\n",
      "    ]\n",
      "}\n"
     ]
    }
   ],
   "source": [
    "print json.dumps(clipper.get_metrics(), indent=4)"
   ]
  },
  {
   "cell_type": "markdown",
   "metadata": {},
   "source": [
    "## Deploy A Bad Model"
   ]
  },
  {
   "cell_type": "code",
   "execution_count": 55,
   "metadata": {
    "collapsed": false
   },
   "outputs": [
    {
     "name": "stdout",
     "output_type": "stream",
     "text": [
      "/tmp/clipper-models/bad_rf_model/1\n",
      "[ec2-54-193-105-129.us-west-1.compute.amazonaws.com] sudo: docker run -d --network=clipper_nw --name bad_rf_model_v1_r0 -v /tmp/clipper-models/bad_rf_model/1/bad_rf_model:/model:ro dcrankshaw/clipper-sklearn-mw\n"
     ]
    }
   ],
   "source": [
    "clipper.add_sklearn_model(\"bad_rf_model\", rf_model)"
   ]
  },
  {
   "cell_type": "markdown",
   "metadata": {},
   "source": [
    "## Start a serving workload\n",
    "\n",
    "We go to a [different notebook](run_serving_workload.ipynb) so we can start querying the model from a separate process. "
   ]
  },
  {
   "cell_type": "code",
   "execution_count": null,
   "metadata": {
    "collapsed": false,
    "scrolled": true
   },
   "outputs": [],
   "source": [
    "clipper.add_pyspark_model(\"spark_svm\", \"s3://clipperdbdemo/svm_3_v_6_classifier/svm_predict_3\")"
   ]
  },
  {
   "cell_type": "markdown",
   "metadata": {},
   "source": [
    "## Train an SVM with RBF Kernel"
   ]
  },
  {
   "cell_type": "code",
   "execution_count": null,
   "metadata": {
    "collapsed": false
   },
   "outputs": [],
   "source": [
    "svm_model = svm.SVC()\n",
    "svm_model.fit(train_x, train_y)\n",
    "svm_model.score(test_x, test_y)"
   ]
  },
  {
   "cell_type": "code",
   "execution_count": null,
   "metadata": {
    "collapsed": false
   },
   "outputs": [],
   "source": [
    "clipper.add_sklearn_model(\"rbf_svm_model\", svm_model)"
   ]
  },
  {
   "cell_type": "code",
   "execution_count": null,
   "metadata": {
    "collapsed": false
   },
   "outputs": [],
   "source": [
    "# clipper = cl.Cluster(ec2_host, user, key)\n",
    "print json.dumps(clipper.get_correction_model(0), indent=4)"
   ]
  },
  {
   "cell_type": "markdown",
   "metadata": {},
   "source": [
    "## Send some corrections\n",
    "\n",
    "We go to a [different notebook](send_updates.ipynb) to send more training data to Clipper. "
   ]
  },
  {
   "cell_type": "markdown",
   "metadata": {},
   "source": [
    "## Stop Clipper"
   ]
  },
  {
   "cell_type": "code",
   "execution_count": 52,
   "metadata": {
    "collapsed": false
   },
   "outputs": [
    {
     "name": "stdout",
     "output_type": "stream",
     "text": [
      "Stopping Clipper and all running models...\n"
     ]
    }
   ],
   "source": [
    "clipper.stop_all()"
   ]
  },
  {
   "cell_type": "code",
   "execution_count": null,
   "metadata": {
    "collapsed": false
   },
   "outputs": [],
   "source": [
    "lm_model = lm.LogisticRegression()\n",
    "lm_model.fit(train_x, train_y)\n",
    "lm_model.score(test_x, test_y)"
   ]
  },
  {
   "cell_type": "code",
   "execution_count": 56,
   "metadata": {
    "collapsed": false
   },
   "outputs": [
    {
     "name": "stdout",
     "output_type": "stream",
     "text": [
      "Adding 3 replicas of model: bad_rf_model\n",
      "[ec2-54-193-105-129.us-west-1.compute.amazonaws.com] run: stat /tmp/clipper-models/bad_rf_model/1\n",
      "[ec2-54-193-105-129.us-west-1.compute.amazonaws.com] out:   File: ‘/tmp/clipper-models/bad_rf_model/1’\n",
      "[ec2-54-193-105-129.us-west-1.compute.amazonaws.com] out:   Size: 4096      \tBlocks: 8          IO Block: 4096   directory\n",
      "[ec2-54-193-105-129.us-west-1.compute.amazonaws.com] out: Device: ca01h/51713d\tInode: 524939      Links: 3\n",
      "[ec2-54-193-105-129.us-west-1.compute.amazonaws.com] out: Access: (0775/drwxrwxr-x)  Uid: ( 1000/  ubuntu)   Gid: ( 1000/  ubuntu)\n",
      "[ec2-54-193-105-129.us-west-1.compute.amazonaws.com] out: Access: 2016-08-24 18:41:57.955033000 +0000\n",
      "[ec2-54-193-105-129.us-west-1.compute.amazonaws.com] out: Modify: 2016-08-24 19:04:39.503848387 +0000\n",
      "[ec2-54-193-105-129.us-west-1.compute.amazonaws.com] out: Change: 2016-08-24 19:04:39.503848387 +0000\n",
      "[ec2-54-193-105-129.us-west-1.compute.amazonaws.com] out:  Birth: -\n",
      "[ec2-54-193-105-129.us-west-1.compute.amazonaws.com] out: \n",
      "\n",
      "[ec2-54-193-105-129.us-west-1.compute.amazonaws.com] download: <file obj> <- /tmp/clipper-models/bad_rf_model/1/clipper_metadata.json\n",
      "[ec2-54-193-105-129.us-west-1.compute.amazonaws.com] sudo: docker ps\n",
      "[ec2-54-193-105-129.us-west-1.compute.amazonaws.com] out: CONTAINER ID        IMAGE                           COMMAND                  CREATED             STATUS              PORTS                    NAMES\n",
      "[ec2-54-193-105-129.us-west-1.compute.amazonaws.com] out: 4bb61ab8c9d9        dcrankshaw/clipper-sklearn-mw   \"/usr/bin/tini -- pyt\"   5 seconds ago       Up 4 seconds                                 bad_rf_model_v1_r0\n",
      "[ec2-54-193-105-129.us-west-1.compute.amazonaws.com] out: b80d6876cd52        dcrankshaw/clipper              \"/rust/clipper/clippe\"   13 seconds ago      Up 12 seconds       0.0.0.0:1337->1337/tcp   clipper\n",
      "[ec2-54-193-105-129.us-west-1.compute.amazonaws.com] out: 21053bcc2d92        redis:alpine                    \"docker-entrypoint.sh\"   13 seconds ago      Up 12 seconds       0.0.0.0:6379->6379/tcp   redis-clipper\n",
      "[ec2-54-193-105-129.us-west-1.compute.amazonaws.com] out: \n",
      "\n",
      "CONTAINER ID        IMAGE                           COMMAND                  CREATED             STATUS              PORTS                    NAMES\n",
      "4bb61ab8c9d9        dcrankshaw/clipper-sklearn-mw   \"/usr/bin/tini -- pyt\"   5 seconds ago       Up 4 seconds                                 bad_rf_model_v1_r0\n",
      "b80d6876cd52        dcrankshaw/clipper              \"/rust/clipper/clippe\"   13 seconds ago      Up 12 seconds       0.0.0.0:1337->1337/tcp   clipper\n",
      "21053bcc2d92        redis:alpine                    \"docker-entrypoint.sh\"   13 seconds ago      Up 12 seconds       0.0.0.0:6379->6379/tcp   redis-clipper\n",
      "XXXXXXXXXXXXXXXXNAME: bad_rf_model_v1\n",
      "NAMES\n",
      "bad_rf_model_v1_r0\n",
      "clipper\n",
      "redis-clipper\n",
      "[ec2-54-193-105-129.us-west-1.compute.amazonaws.com] sudo: docker stop bad_rf_model_v1_r1\n",
      "[ec2-54-193-105-129.us-west-1.compute.amazonaws.com] out: Error response from daemon: No such container: bad_rf_model_v1_r1\n",
      "[ec2-54-193-105-129.us-west-1.compute.amazonaws.com] out: \n",
      "\n",
      "[ec2-54-193-105-129.us-west-1.compute.amazonaws.com] sudo: docker rm bad_rf_model_v1_r1\n",
      "[ec2-54-193-105-129.us-west-1.compute.amazonaws.com] out: Error response from daemon: No such container: bad_rf_model_v1_r1\n",
      "[ec2-54-193-105-129.us-west-1.compute.amazonaws.com] out: \n"
     ]
    },
    {
     "name": "stderr",
     "output_type": "stream",
     "text": [
      "\n",
      "Warning: sudo() received nonzero return code 1 while executing 'docker stop bad_rf_model_v1_r1'!\n",
      "\n",
      "\n",
      "Warning: sudo() received nonzero return code 1 while executing 'docker rm bad_rf_model_v1_r1'!\n",
      "\n"
     ]
    },
    {
     "name": "stdout",
     "output_type": "stream",
     "text": [
      "\n",
      "[ec2-54-193-105-129.us-west-1.compute.amazonaws.com] sudo: docker run -d --network=clipper_nw --name bad_rf_model_v1_r1 -v /tmp/clipper-models/bad_rf_model/1/bad_rf_model:/model:ro dcrankshaw/clipper-sklearn-mw\n",
      "[ec2-54-193-105-129.us-west-1.compute.amazonaws.com] out: 6518d86e594cd1612b8199ffb7b75314cd46d808b3ce0c081356828c45b69237\n",
      "[ec2-54-193-105-129.us-west-1.compute.amazonaws.com] out: \n",
      "\n",
      "[ec2-54-193-105-129.us-west-1.compute.amazonaws.com] sudo: docker stop bad_rf_model_v1_r2\n",
      "[ec2-54-193-105-129.us-west-1.compute.amazonaws.com] out: Error response from daemon: No such container: bad_rf_model_v1_r2\n",
      "[ec2-54-193-105-129.us-west-1.compute.amazonaws.com] out: \n",
      "\n",
      "[ec2-54-193-105-129.us-west-1.compute.amazonaws.com] sudo: docker rm bad_rf_model_v1_r2\n",
      "[ec2-54-193-105-129.us-west-1.compute.amazonaws.com] out: Error response from daemon: No such container: bad_rf_model_v1_r2\n",
      "[ec2-54-193-105-129.us-west-1.compute.amazonaws.com] out: \n"
     ]
    },
    {
     "name": "stderr",
     "output_type": "stream",
     "text": [
      "\n",
      "Warning: sudo() received nonzero return code 1 while executing 'docker stop bad_rf_model_v1_r2'!\n",
      "\n",
      "\n",
      "Warning: sudo() received nonzero return code 1 while executing 'docker rm bad_rf_model_v1_r2'!\n",
      "\n"
     ]
    },
    {
     "name": "stdout",
     "output_type": "stream",
     "text": [
      "\n",
      "[ec2-54-193-105-129.us-west-1.compute.amazonaws.com] sudo: docker run -d --network=clipper_nw --name bad_rf_model_v1_r2 -v /tmp/clipper-models/bad_rf_model/1/bad_rf_model:/model:ro dcrankshaw/clipper-sklearn-mw\n",
      "[ec2-54-193-105-129.us-west-1.compute.amazonaws.com] out: 968ac462f96c390a1124b8a192946c24584b9a7fed82ca691ea1a08dfe98427f\n",
      "[ec2-54-193-105-129.us-west-1.compute.amazonaws.com] out: \n",
      "\n",
      "[ec2-54-193-105-129.us-west-1.compute.amazonaws.com] sudo: docker stop bad_rf_model_v1_r3\n",
      "[ec2-54-193-105-129.us-west-1.compute.amazonaws.com] out: Error response from daemon: No such container: bad_rf_model_v1_r3\n",
      "[ec2-54-193-105-129.us-west-1.compute.amazonaws.com] out: \n",
      "\n",
      "[ec2-54-193-105-129.us-west-1.compute.amazonaws.com] sudo: docker rm bad_rf_model_v1_r3\n",
      "[ec2-54-193-105-129.us-west-1.compute.amazonaws.com] out: Error response from daemon: No such container: bad_rf_model_v1_r3\n",
      "[ec2-54-193-105-129.us-west-1.compute.amazonaws.com] out: \n"
     ]
    },
    {
     "name": "stderr",
     "output_type": "stream",
     "text": [
      "\n",
      "Warning: sudo() received nonzero return code 1 while executing 'docker stop bad_rf_model_v1_r3'!\n",
      "\n",
      "\n",
      "Warning: sudo() received nonzero return code 1 while executing 'docker rm bad_rf_model_v1_r3'!\n",
      "\n"
     ]
    },
    {
     "name": "stdout",
     "output_type": "stream",
     "text": [
      "\n",
      "[ec2-54-193-105-129.us-west-1.compute.amazonaws.com] sudo: docker run -d --network=clipper_nw --name bad_rf_model_v1_r3 -v /tmp/clipper-models/bad_rf_model/1/bad_rf_model:/model:ro dcrankshaw/clipper-sklearn-mw\n",
      "[ec2-54-193-105-129.us-west-1.compute.amazonaws.com] out: be4b73c0055c37301fac4dfebfd8a84825cebfee1c63541ce234a311329f322f\n",
      "[ec2-54-193-105-129.us-west-1.compute.amazonaws.com] out: \n",
      "\n",
      "{\n",
      "    \"meters\": [\n",
      "        {\n",
      "            \"rate\": 0.0, \n",
      "            \"name\": \"prediction_thruput\", \n",
      "            \"unit\": \"events per second\"\n",
      "        }, \n",
      "        {\n",
      "            \"rate\": 0.0, \n",
      "            \"name\": \"update_thruput\", \n",
      "            \"unit\": \"events per second\"\n",
      "        }, \n",
      "        {\n",
      "            \"rate\": 0.0, \n",
      "            \"name\": \"bad_rf_model:model_thruput\", \n",
      "            \"unit\": \"events per second\"\n",
      "        }\n",
      "    ], \n",
      "    \"histograms\": [\n",
      "        {\n",
      "            \"std\": 0.0, \n",
      "            \"p99\": 0.0, \n",
      "            \"name\": \"prediction_latency\", \n",
      "            \"min\": 0, \n",
      "            \"max\": 0, \n",
      "            \"p95\": 0.0, \n",
      "            \"p50\": 0.0, \n",
      "            \"mean\": 0.0\n",
      "        }, \n",
      "        {\n",
      "            \"std\": 0.0, \n",
      "            \"p99\": 0.0, \n",
      "            \"name\": \"in_time_predictions\", \n",
      "            \"min\": 0, \n",
      "            \"max\": 0, \n",
      "            \"p95\": 0.0, \n",
      "            \"p50\": 0.0, \n",
      "            \"mean\": 0.0\n",
      "        }, \n",
      "        {\n",
      "            \"std\": 0.0, \n",
      "            \"p99\": 0.0, \n",
      "            \"name\": \"update_latency\", \n",
      "            \"min\": 0, \n",
      "            \"max\": 0, \n",
      "            \"p95\": 0.0, \n",
      "            \"p50\": 0.0, \n",
      "            \"mean\": 0.0\n",
      "        }, \n",
      "        {\n",
      "            \"std\": 0.0, \n",
      "            \"p99\": 0.0, \n",
      "            \"name\": \"bad_rf_model:model_latency\", \n",
      "            \"min\": 0, \n",
      "            \"max\": 0, \n",
      "            \"p95\": 0.0, \n",
      "            \"p50\": 0.0, \n",
      "            \"mean\": 0.0\n",
      "        }, \n",
      "        {\n",
      "            \"std\": 0.0, \n",
      "            \"p99\": 0.0, \n",
      "            \"name\": \"bad_rf_model:model_batch_size\", \n",
      "            \"min\": 0, \n",
      "            \"max\": 0, \n",
      "            \"p95\": 0.0, \n",
      "            \"p50\": 0.0, \n",
      "            \"mean\": 0.0\n",
      "        }\n",
      "    ], \n",
      "    \"ratio_counters\": [\n",
      "        {\n",
      "            \"ratio\": null, \n",
      "            \"name\": \"prediction accuracy ratio\"\n",
      "        }, \n",
      "        {\n",
      "            \"ratio\": null, \n",
      "            \"name\": \"cache_hits\"\n",
      "        }\n",
      "    ], \n",
      "    \"name\": \"clipper-demo\", \n",
      "    \"counters\": [\n",
      "        {\n",
      "            \"count\": 0, \n",
      "            \"name\": \"prediction_counter\"\n",
      "        }, \n",
      "        {\n",
      "            \"count\": 0, \n",
      "            \"name\": \"queued_predictions\"\n",
      "        }, \n",
      "        {\n",
      "            \"count\": 0, \n",
      "            \"name\": \"update_counter\"\n",
      "        }, \n",
      "        {\n",
      "            \"count\": 0, \n",
      "            \"name\": \"queued_updates\"\n",
      "        }, \n",
      "        {\n",
      "            \"count\": 0, \n",
      "            \"name\": \"bad_rf_model:prediction_counter\"\n",
      "        }\n",
      "    ]\n",
      "}\n"
     ]
    }
   ],
   "source": [
    "clipper.add_replicas(\"bad_rf_model\", 1, num_replicas=3)\n",
    "print json.dumps(clipper.get_metrics(), indent=4)"
   ]
  },
  {
   "cell_type": "code",
   "execution_count": 51,
   "metadata": {
    "collapsed": false
   },
   "outputs": [
    {
     "name": "stdout",
     "output_type": "stream",
     "text": [
      "Checking if Docker running...\n",
      "Found Docker running\n",
      "Creating internal Docker network\n",
      "Creating local model repository\n"
     ]
    }
   ],
   "source": [
    "clipper = cl.Cluster(ec2_host, user, key)"
   ]
  },
  {
   "cell_type": "code",
   "execution_count": null,
   "metadata": {
    "collapsed": true
   },
   "outputs": [],
   "source": []
  }
 ],
 "metadata": {
  "kernelspec": {
   "display_name": "Python 2",
   "language": "python",
   "name": "python2"
  },
  "language_info": {
   "codemirror_mode": {
    "name": "ipython",
    "version": 2
   },
   "file_extension": ".py",
   "mimetype": "text/x-python",
   "name": "python",
   "nbconvert_exporter": "python",
   "pygments_lexer": "ipython2",
   "version": "2.7.12"
  }
 },
 "nbformat": 4,
 "nbformat_minor": 0
}
