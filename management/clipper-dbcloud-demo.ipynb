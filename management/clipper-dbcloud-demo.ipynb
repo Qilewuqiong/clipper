{
 "cells": [
  {
   "cell_type": "code",
   "execution_count": null,
   "metadata": {
    "collapsed": false
   },
   "outputs": [],
   "source": [
    "%load_ext autoreload\n",
    "%autoreload 2\n",
    "import clipper_manager as cl\n",
    "import os\n",
    "import pandas as pd\n",
    "import numpy as np\n",
    "from sklearn import linear_model as lm\n",
    "from sklearn import svm\n",
    "# import sklearn.ensemble.RandomForestClassifier as RFC\n",
    "from sklearn.ensemble import RandomForestClassifier as RFC\n",
    "from sklearn.externals import joblib\n",
    "import sys\n",
    "ec2_host = \"ec2-54-67-0-164.us-west-1.compute.amazonaws.com\"\n",
    "user = \"ubuntu\"\n",
    "key = os.path.expanduser(\"~/.ssh/aws_rsa\")"
   ]
  },
  {
   "cell_type": "markdown",
   "metadata": {},
   "source": [
    "# Train a Scikit-Learn model"
   ]
  },
  {
   "cell_type": "code",
   "execution_count": null,
   "metadata": {
    "collapsed": false
   },
   "outputs": [],
   "source": [
    "def load_digits(digits_location, digits_filename = \"train.data\", norm=True):\n",
    "    digits_path = digits_location + \"/\" + digits_filename\n",
    "    print(\"Source file: %s\" % digits_path)\n",
    "    df = pd.read_csv(digits_path, sep=\",\", header=None)\n",
    "    data = df.values\n",
    "    print(\"Number of image files: %d\" % len(data))\n",
    "    y = data[:,0]\n",
    "    X = data[:,1:]\n",
    "    Z = X\n",
    "    if norm:\n",
    "        mu = np.mean(X,0)\n",
    "        sigma = np.var(X,0)\n",
    "        Z = (X - mu) / np.array([np.sqrt(z) if z > 0 else 1. for z in sigma])\n",
    "#     label = 3\n",
    "#     my_y = [1. if i == label else -1.0 for i in y]\n",
    "    return Z, y\n",
    "\n",
    "def filter_data(data):\n",
    "    cx, cy = data\n",
    "    binary_x = []\n",
    "    binary_y = []\n",
    "    for i in range(len(cy)):\n",
    "        if cy[i] == 3:\n",
    "            binary_x.append(cx[i,:])\n",
    "            binary_y.append(1.0)\n",
    "        elif cy[i] == 6:\n",
    "            binary_x.append(cx[i,:])\n",
    "            binary_y.append(0.0)\n",
    "    return np.array(binary_x), np.array(binary_y)\n",
    "            \n",
    "train_x, train_y = filter_data(load_digits(os.path.expanduser(\"~/model-serving/data/mnist_data\")))\n",
    "test_x, test_y = filter_data(load_digits(os.path.expanduser(\"~/model-serving/data/mnist_data\"), digits_filename=\"test.data\"))"
   ]
  },
  {
   "cell_type": "markdown",
   "metadata": {},
   "source": [
    "## Train a bad model"
   ]
  },
  {
   "cell_type": "code",
   "execution_count": null,
   "metadata": {
    "collapsed": false
   },
   "outputs": [],
   "source": [
    "rf_model = RFC(n_estimators=2, max_depth=2)\n",
    "rf_model.fit(train_x, train_y)\n",
    "rf_model.score(test_x, test_y)"
   ]
  },
  {
   "cell_type": "code",
   "execution_count": null,
   "metadata": {
    "collapsed": false
   },
   "outputs": [],
   "source": [
    "lm_model = lm.LogisticRegression()\n",
    "lm_model.fit(train_x, train_y)\n",
    "lm_model.score(test_x, test_y)"
   ]
  },
  {
   "cell_type": "markdown",
   "metadata": {},
   "source": [
    "## Train an SVM with RBF Kernel"
   ]
  },
  {
   "cell_type": "code",
   "execution_count": null,
   "metadata": {
    "collapsed": false
   },
   "outputs": [],
   "source": [
    "svm_model = svm.SVC()\n",
    "svm_model.fit(train_x, train_y)\n",
    "svm_model.score(test_x, test_y)"
   ]
  },
  {
   "cell_type": "code",
   "execution_count": null,
   "metadata": {
    "collapsed": false,
    "scrolled": true
   },
   "outputs": [],
   "source": [
    "import clipper_manager as cl\n",
    "clipper = cl.Cluster(ec2_host, user, key)"
   ]
  },
  {
   "cell_type": "code",
   "execution_count": null,
   "metadata": {
    "collapsed": false
   },
   "outputs": [],
   "source": [
    "clipper.start_clipper()"
   ]
  },
  {
   "cell_type": "code",
   "execution_count": 29,
   "metadata": {
    "collapsed": false
   },
   "outputs": [
    {
     "name": "stdout",
     "output_type": "stream",
     "text": [
      "/tmp/clipper-models/bad_rf_model/1\n",
      "[ec2-54-67-0-164.us-west-1.compute.amazonaws.com] run: mkdir -p /tmp/clipper-models/bad_rf_model/1\n",
      "[ec2-54-67-0-164.us-west-1.compute.amazonaws.com] sudo: docker stop bad_rf_model_v1_r0\n",
      "[ec2-54-67-0-164.us-west-1.compute.amazonaws.com] sudo: docker rm bad_rf_model_v1_r0\n",
      "[ec2-54-67-0-164.us-west-1.compute.amazonaws.com] sudo: docker run -d --network=clipper_nw --name bad_rf_model_v1_r0 -v /tmp/clipper-models/bad_rf_model/1/bad_rf_model:/model:ro dcrankshaw/clipper-sklearn-mw\n"
     ]
    }
   ],
   "source": [
    "clipper.add_sklearn_model(\"bad_rf_model\", rf_model)"
   ]
  },
  {
   "cell_type": "code",
   "execution_count": 36,
   "metadata": {
    "collapsed": false
   },
   "outputs": [
    {
     "name": "stdout",
     "output_type": "stream",
     "text": [
      "/tmp/clipper-models/good_svm_model/1\n",
      "[ec2-54-67-0-164.us-west-1.compute.amazonaws.com] run: mkdir -p /tmp/clipper-models/good_svm_model/1\n",
      "[ec2-54-67-0-164.us-west-1.compute.amazonaws.com] sudo: docker stop good_svm_model_v1_r0\n",
      "[ec2-54-67-0-164.us-west-1.compute.amazonaws.com] sudo: docker rm good_svm_model_v1_r0\n",
      "[ec2-54-67-0-164.us-west-1.compute.amazonaws.com] sudo: docker run -d --network=clipper_nw --name good_svm_model_v1_r0 -v /tmp/clipper-models/good_svm_model/1/good_svm_model:/model:ro dcrankshaw/clipper-sklearn-mw\n"
     ]
    }
   ],
   "source": [
    "clipper.add_sklearn_model(\"good_svm_model\", svm_model)"
   ]
  },
  {
   "cell_type": "code",
   "execution_count": 32,
   "metadata": {
    "collapsed": false
   },
   "outputs": [
    {
     "name": "stdout",
     "output_type": "stream",
     "text": [
      "/tmp/clipper-models/spark_svm/1\n",
      "[ec2-54-67-0-164.us-west-1.compute.amazonaws.com] run: mkdir -p /tmp/clipper-models/spark_svm/1\n",
      "[ec2-54-67-0-164.us-west-1.compute.amazonaws.com] run: aws s3 cp s3://clipperdbdemo/test823/svm_predict_3 /tmp/clipper-models/spark_svm/1/svm_predict_3 --recursive\n",
      "[ec2-54-67-0-164.us-west-1.compute.amazonaws.com] out: download: s3://clipperdbdemo/test823/svm_predict_3/data/_SUCCESS to svm_predict_3/data/_SUCCESS\n",
      "[ec2-54-67-0-164.us-west-1.compute.amazonaws.com] out: Completed 1 of 6 part(s) with 5 file(s) remaining\n",
      "[ec2-54-67-0-164.us-west-1.compute.amazonaws.com] out: download: s3://clipperdbdemo/test823/svm_predict_3/data/_metadata to svm_predict_3/data/_metadata\n",
      "[ec2-54-67-0-164.us-west-1.compute.amazonaws.com] out: Completed 2 of 6 part(s) with 4 file(s) remaining\n",
      "[ec2-54-67-0-164.us-west-1.compute.amazonaws.com] out: download: s3://clipperdbdemo/test823/svm_predict_3/metadata/_SUCCESS to svm_predict_3/metadata/_SUCCESS\n",
      "[ec2-54-67-0-164.us-west-1.compute.amazonaws.com] out: Completed 3 of 6 part(s) with 3 file(s) remaining\n",
      "[ec2-54-67-0-164.us-west-1.compute.amazonaws.com] out: download: s3://clipperdbdemo/test823/svm_predict_3/data/part-r-00000-09ce3a8e-5398-4756-8a24-ea9e1d473007.gz.parquet to svm_predict_3/data/part-r-00000-09ce3a8e-5398-4756-8a24-ea9e1d473007.gz.parquet\n",
      "[ec2-54-67-0-164.us-west-1.compute.amazonaws.com] out: Completed 4 of 6 part(s) with 2 file(s) remaining\n",
      "[ec2-54-67-0-164.us-west-1.compute.amazonaws.com] out: download: s3://clipperdbdemo/test823/svm_predict_3/metadata/part-00000 to svm_predict_3/metadata/part-00000\n",
      "[ec2-54-67-0-164.us-west-1.compute.amazonaws.com] out: Completed 5 of 6 part(s) with 1 file(s) remaining\n",
      "[ec2-54-67-0-164.us-west-1.compute.amazonaws.com] out: download: s3://clipperdbdemo/test823/svm_predict_3/data/_common_metadata to svm_predict_3/data/_common_metadata\n",
      "[ec2-54-67-0-164.us-west-1.compute.amazonaws.com] out: \n",
      "\n",
      "[ec2-54-67-0-164.us-west-1.compute.amazonaws.com] sudo: docker stop spark_svm_v1_r0\n",
      "[ec2-54-67-0-164.us-west-1.compute.amazonaws.com] sudo: docker rm spark_svm_v1_r0\n",
      "[ec2-54-67-0-164.us-west-1.compute.amazonaws.com] sudo: docker run -d --network=clipper_nw --name spark_svm_v1_r0 -v /tmp/clipper-models/spark_svm/1/svm_predict_3:/model:ro dcrankshaw/clipper-spark-mw\n"
     ]
    }
   ],
   "source": [
    "# clipper = cl.Cluster(ec2_host, user, key)\n",
    "clipper.add_pyspark_model(\"spark_svm\", \"s3://clipperdbdemo/test823/svm_predict_3\")"
   ]
  },
  {
   "cell_type": "code",
   "execution_count": 37,
   "metadata": {
    "collapsed": false,
    "scrolled": false
   },
   "outputs": [
    {
     "name": "stdout",
     "output_type": "stream",
     "text": [
      "{\n",
      "    \"meters\": [\n",
      "        {\n",
      "            \"rate\": 45.63718534457216, \n",
      "            \"name\": \"prediction_thruput\", \n",
      "            \"unit\": \"events per second\"\n",
      "        }, \n",
      "        {\n",
      "            \"rate\": 0.0, \n",
      "            \"name\": \"update_thruput\", \n",
      "            \"unit\": \"events per second\"\n",
      "        }, \n",
      "        {\n",
      "            \"rate\": 7.191313557036659, \n",
      "            \"name\": \"bad_rf_model:model_thruput\", \n",
      "            \"unit\": \"events per second\"\n",
      "        }, \n",
      "        {\n",
      "            \"rate\": 11.824179021666044, \n",
      "            \"name\": \"spark_svm:model_thruput\", \n",
      "            \"unit\": \"events per second\"\n",
      "        }, \n",
      "        {\n",
      "            \"rate\": 47.0744699581482, \n",
      "            \"name\": \"good_svm_model:model_thruput\", \n",
      "            \"unit\": \"events per second\"\n",
      "        }\n",
      "    ], \n",
      "    \"histograms\": [\n",
      "        {\n",
      "            \"std\": 185.02027008567492, \n",
      "            \"p99\": 20202.39, \n",
      "            \"name\": \"prediction_latency\", \n",
      "            \"min\": 18012, \n",
      "            \"max\": 20217, \n",
      "            \"p95\": 20182.0, \n",
      "            \"p50\": 20142.0, \n",
      "            \"mean\": 20112.089393939394\n",
      "        }, \n",
      "        {\n",
      "            \"std\": 0.2742953952531536, \n",
      "            \"p99\": 3.0, \n",
      "            \"name\": \"in_time_predictions\", \n",
      "            \"min\": 2, \n",
      "            \"max\": 3, \n",
      "            \"p95\": 3.0, \n",
      "            \"p50\": 2.0, \n",
      "            \"mean\": 2.081818181818182\n",
      "        }, \n",
      "        {\n",
      "            \"std\": 0.0, \n",
      "            \"p99\": 0.0, \n",
      "            \"name\": \"update_latency\", \n",
      "            \"min\": 0, \n",
      "            \"max\": 0, \n",
      "            \"p95\": 0.0, \n",
      "            \"p50\": 0.0, \n",
      "            \"mean\": 0.0\n",
      "        }, \n",
      "        {\n",
      "            \"std\": 98.29312852387599, \n",
      "            \"p99\": 940.85, \n",
      "            \"name\": \"bad_rf_model:model_latency\", \n",
      "            \"min\": 540, \n",
      "            \"max\": 942, \n",
      "            \"p95\": 882.75, \n",
      "            \"p50\": 625.0, \n",
      "            \"mean\": 659.9326923076923\n",
      "        }, \n",
      "        {\n",
      "            \"std\": 0.0, \n",
      "            \"p99\": 1.0, \n",
      "            \"name\": \"bad_rf_model:model_batch_size\", \n",
      "            \"min\": 1, \n",
      "            \"max\": 1, \n",
      "            \"p95\": 1.0, \n",
      "            \"p50\": 1.0, \n",
      "            \"mean\": 1.0\n",
      "        }, \n",
      "        {\n",
      "            \"std\": 52.98514177954046, \n",
      "            \"p99\": 457.08000000000004, \n",
      "            \"name\": \"spark_svm:model_latency\", \n",
      "            \"min\": 221, \n",
      "            \"max\": 465, \n",
      "            \"p95\": 418.8, \n",
      "            \"p50\": 285.0, \n",
      "            \"mean\": 299.9356725146199\n",
      "        }, \n",
      "        {\n",
      "            \"std\": 0.0, \n",
      "            \"p99\": 1.0, \n",
      "            \"name\": \"spark_svm:model_batch_size\", \n",
      "            \"min\": 1, \n",
      "            \"max\": 1, \n",
      "            \"p95\": 1.0, \n",
      "            \"p50\": 1.0, \n",
      "            \"mean\": 1.0\n",
      "        }, \n",
      "        {\n",
      "            \"std\": 6489.590676343288, \n",
      "            \"p99\": 17211.0, \n",
      "            \"name\": \"good_svm_model:model_latency\", \n",
      "            \"min\": 1378, \n",
      "            \"max\": 17211, \n",
      "            \"p95\": 17211.0, \n",
      "            \"p50\": 8203.0, \n",
      "            \"mean\": 8524.889763779527\n",
      "        }, \n",
      "        {\n",
      "            \"std\": 3.368881831006924, \n",
      "            \"p99\": 15.0, \n",
      "            \"name\": \"good_svm_model:model_batch_size\", \n",
      "            \"min\": 1, \n",
      "            \"max\": 15, \n",
      "            \"p95\": 13.049999999999997, \n",
      "            \"p50\": 1.0, \n",
      "            \"mean\": 2.189655172413793\n",
      "        }\n",
      "    ], \n",
      "    \"ratio_counters\": [\n",
      "        {\n",
      "            \"ratio\": null, \n",
      "            \"name\": \"prediction accuracy ratio\"\n",
      "        }, \n",
      "        {\n",
      "            \"ratio\": 0.7231404958677686, \n",
      "            \"name\": \"cache_hits\"\n",
      "        }\n",
      "    ], \n",
      "    \"name\": \"clipper-demo\", \n",
      "    \"counters\": [\n",
      "        {\n",
      "            \"count\": 660, \n",
      "            \"name\": \"prediction_counter\"\n",
      "        }, \n",
      "        {\n",
      "            \"count\": 0, \n",
      "            \"name\": \"queued_predictions\"\n",
      "        }, \n",
      "        {\n",
      "            \"count\": 0, \n",
      "            \"name\": \"update_counter\"\n",
      "        }, \n",
      "        {\n",
      "            \"count\": 0, \n",
      "            \"name\": \"queued_updates\"\n",
      "        }, \n",
      "        {\n",
      "            \"count\": 104, \n",
      "            \"name\": \"bad_rf_model:prediction_counter\"\n",
      "        }, \n",
      "        {\n",
      "            \"count\": 171, \n",
      "            \"name\": \"spark_svm:prediction_counter\"\n",
      "        }, \n",
      "        {\n",
      "            \"count\": 127, \n",
      "            \"name\": \"good_svm_model:prediction_counter\"\n",
      "        }\n",
      "    ]\n",
      "}\n"
     ]
    }
   ],
   "source": [
    "metrics = clipper.get_metrics()"
   ]
  },
  {
   "cell_type": "code",
   "execution_count": null,
   "metadata": {
    "collapsed": false
   },
   "outputs": [],
   "source": [
    "clipper.stop_all()"
   ]
  },
  {
   "cell_type": "code",
   "execution_count": null,
   "metadata": {
    "collapsed": true
   },
   "outputs": [],
   "source": []
  }
 ],
 "metadata": {
  "kernelspec": {
   "display_name": "Python 2",
   "language": "python",
   "name": "python2"
  },
  "language_info": {
   "codemirror_mode": {
    "name": "ipython",
    "version": 2
   },
   "file_extension": ".py",
   "mimetype": "text/x-python",
   "name": "python",
   "nbconvert_exporter": "python",
   "pygments_lexer": "ipython2",
   "version": "2.7.12"
  }
 },
 "nbformat": 4,
 "nbformat_minor": 0
}
