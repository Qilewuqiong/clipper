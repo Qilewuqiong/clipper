{
 "cells": [
  {
   "cell_type": "code",
   "execution_count": null,
   "metadata": {
    "collapsed": true
   },
   "outputs": [],
   "source": [
    "import sys\n",
    "import json\n",
    "import os\n",
    "import requests\n",
    "import random\n",
    "from datetime import datetime\n",
    "import time\n",
    "\n",
    "import pandas as pd\n",
    "import numpy as np\n",
    "import sklearn.linear_model\n",
    "import matplotlib.pyplot as plt\n",
    "%matplotlib notebook\n"
   ]
  },
  {
   "cell_type": "markdown",
   "metadata": {},
   "source": [
    "## Run a serving workload"
   ]
  },
  {
   "cell_type": "code",
   "execution_count": null,
   "metadata": {
    "collapsed": true
   },
   "outputs": [],
   "source": [
    "def load_digits(digits_location, digits_filename = \"train.data\", norm=True):\n",
    "    digits_path = digits_location + \"/\" + digits_filename\n",
    "    print(\"Source file: %s\" % digits_path)\n",
    "    df = pd.read_csv(digits_path, sep=\",\", header=None)\n",
    "    data = df.values\n",
    "    print(\"Number of image files: %d\" % len(data))\n",
    "    y = data[:,0]\n",
    "    X = data[:,1:]\n",
    "    Z = X\n",
    "    if norm:\n",
    "        mu = np.mean(X,0)\n",
    "        sigma = np.var(X,0)\n",
    "        Z = (X - mu) / np.array([np.sqrt(z) if z > 0 else 1. for z in sigma])\n",
    "    return Z, y\n",
    "\n",
    "def filter_data(data):\n",
    "    cx, cy = data\n",
    "    binary_x = []\n",
    "    binary_y = []\n",
    "    for i in range(len(cy)):\n",
    "        if cy[i] == 3:\n",
    "            binary_x.append(cx[i,:])\n",
    "            binary_y.append(1.0)\n",
    "        elif cy[i] == 6:\n",
    "            binary_x.append(cx[i,:])\n",
    "            binary_y.append(0.0)\n",
    "    return np.array(binary_x), np.array(binary_y)\n",
    "            \n",
    "\n",
    "def mnist_update(host, uid, x, y):\n",
    "    url = \"http://%s:1337/update\" % host\n",
    "    req_json = json.dumps({'uid': uid, 'input': list(x), 'label': y})\n",
    "    headers = {'Content-type': 'application/json'}\n",
    "    start = datetime.now()\n",
    "    r = requests.post(url, headers=headers, data=req_json)\n",
    "    end = datetime.now()\n",
    "    latency = (end - start).total_seconds() * 1000.0\n",
    "    print(\"'%s', %f ms\" % (r.text, latency))\n",
    "\n",
    "def mnist_prediction(host, uid, x):\n",
    "    url = \"http://%s:1337/predict\" % host\n",
    "    req_json = json.dumps({'uid': uid, 'input': list(x)})\n",
    "    headers = {'Content-type': 'application/json'}\n",
    "    # x_str = \", \".join([\"%d\" % a for a in x])\n",
    "    start = datetime.now()\n",
    "    r = requests.post(url, headers=headers, data=req_json)\n",
    "    end = datetime.now()\n",
    "    latency = (end - start).total_seconds() * 1000.0\n",
    "    pred = float(r.text.split(\":\")[1].strip())\n",
    "    return (pred, latency)\n",
    "\n",
    "\n",
    "\n",
    "def send_updates(num_updates):\n",
    "    uid = 0\n",
    "    for i in range(num_updates):\n",
    "        example_num = np.random.randint(0, len(test_y))\n",
    "        mnist_update(host, uid, test_x[example_num], float(test_y[example_num]))\n",
    "\n",
    "def run_iteration(uid):\n",
    "    correct = 0\n",
    "    false_pos = 0\n",
    "    false_neg = 0\n",
    "    latencies = []\n",
    "    true_pos = 0\n",
    "    true_neg = 0\n",
    "    total = 100\n",
    "    for i in range(total):\n",
    "        example_num = np.random.randint(0, len(test_y))\n",
    "        correct_y = float(test_y[example_num])\n",
    "        pred_y, latency = mnist_prediction(host, uid, test_x[example_num])\n",
    "        if correct_y == pred_y:\n",
    "            if correct_y == 0:\n",
    "                true_neg += 1\n",
    "            elif correct_y == 1:\n",
    "                true_pos += 1\n",
    "            correct += 1\n",
    "        elif correct_y == 0 and pred_y == 1:\n",
    "            false_pos += 1\n",
    "        elif correct_y == 1 and pred_y == 0:\n",
    "            false_neg += 1\n",
    "        else:\n",
    "            print \"predicted: {p}, correct: {c}\".format(p=pred_y, c=correct_y)\n",
    "        latencies.append(latency)\n",
    "    total = float(total)    \n",
    "    return (float(correct)/total,\n",
    "            float(false_pos)/total,\n",
    "            float(false_neg)/total,\n",
    "            float(true_pos)/total,\n",
    "            float(true_neg)/total,\n",
    "            np.mean(latencies))\n",
    "\n",
    "def run_serving_workload():\n",
    "    fig, (ax_acc, ax_lat) = plt.subplots(2,1, sharex=True)\n",
    "    ax_acc.set_ylabel(\"accuracy\")\n",
    "    ax_lat.set_xlabel(\"iterations\")\n",
    "    ax_lat.set_ylabel(\"latency\")\n",
    "    ax_acc.set_ylim(0, 1.0)\n",
    "    xs = []\n",
    "    accs = []\n",
    "    lats = []\n",
    "    j = 0\n",
    "    uid = 0\n",
    "    while True:\n",
    "        correct, fp, fn, tp, tn, mean_lat, = run_iteration(uid)\n",
    "        xs.append(j)\n",
    "        accs.append(correct)\n",
    "        lats.append(mean_lat)\n",
    "        j += 1\n",
    "        ax_acc.set_xlim(0, j + 1)\n",
    "        ax_lat.set_xlim(0, j + 1)\n",
    "        \n",
    "        ax_acc.plot(xs, accs, 'b')\n",
    "        ax_lat.plot(xs, lats, 'r')\n",
    "        ax_lat.set_ylim(0, 150)\n",
    "        fig.canvas.draw()\n",
    "        print \"Accuracy: {cor}, false positives: {fp}, false negatives: {fn}, true positives: {tp}, true negatives: {tn}\".format(\n",
    "            cor=correct, fp=fp, fn=fn, tp=tp, tn=tn)\n",
    "        print \"Mean latency: {lat} ms\".format(lat = mean_lat)\n",
    "        \n",
    "            \n",
    "    \n"
   ]
  },
  {
   "cell_type": "code",
   "execution_count": null,
   "metadata": {
    "collapsed": false
   },
   "outputs": [],
   "source": [
    "test_x, test_y = filter_data(load_digits(os.path.expanduser(\"~/model-serving/data/mnist_data\"), digits_filename=\"test.data\"))\n",
    "# host = \"\""
   ]
  },
  {
   "cell_type": "code",
   "execution_count": null,
   "metadata": {
    "collapsed": false,
    "scrolled": false
   },
   "outputs": [],
   "source": [
    "# send_updates(200)\n",
    "run_serving_workload()"
   ]
  },
  {
   "cell_type": "code",
   "execution_count": null,
   "metadata": {
    "collapsed": true
   },
   "outputs": [],
   "source": []
  }
 ],
 "metadata": {
  "kernelspec": {
   "display_name": "Python 2",
   "language": "python",
   "name": "python2"
  },
  "language_info": {
   "codemirror_mode": {
    "name": "ipython",
    "version": 2
   },
   "file_extension": ".py",
   "mimetype": "text/x-python",
   "name": "python",
   "nbconvert_exporter": "python",
   "pygments_lexer": "ipython2",
   "version": "2.7.12"
  }
 },
 "nbformat": 4,
 "nbformat_minor": 0
}
