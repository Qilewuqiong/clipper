{
 "cells": [
  {
   "cell_type": "code",
   "execution_count": 1,
   "metadata": {
    "collapsed": true
   },
   "outputs": [],
   "source": [
    "import pandas as pd\n",
    "import numpy as np\n",
    "from git import Repo"
   ]
  },
  {
   "cell_type": "code",
   "execution_count": 2,
   "metadata": {
    "collapsed": true
   },
   "outputs": [],
   "source": [
    "repo = Repo(\"/Users/crankshaw/tugboat_test\")"
   ]
  },
  {
   "cell_type": "code",
   "execution_count": 3,
   "metadata": {
    "collapsed": false
   },
   "outputs": [],
   "source": [
    "cur_commit = repo.commit(\"HEAD\")\n",
    "last_update = repo.commit(\"HEAD~1\")\n"
   ]
  },
  {
   "cell_type": "code",
   "execution_count": 4,
   "metadata": {
    "collapsed": false
   },
   "outputs": [
    {
     "name": "stdout",
     "output_type": "stream",
     "text": [
      "features/another_pred_1/predict_1_svm.pkl\n",
      "features/another_pred_1/predict_1_svm.pkl_01.npy\n",
      "features/another_pred_1/predict_1_svm.pkl_02.npy\n",
      "features/another_pred_1/predict_1_svm.pkl_03.npy\n",
      "features/another_pred_1/predict_1_svm.pkl_04.npy\n",
      "features/another_pred_1/predict_1_svm.pkl_05.npy\n",
      "features/another_pred_1/predict_1_svm.pkl_06.npy\n",
      "features/another_pred_1/predict_1_svm.pkl_07.npy\n",
      "features/another_pred_1/predict_1_svm.pkl_08.npy\n",
      "features/another_pred_1/predict_1_svm.pkl_09.npy\n",
      "features/another_pred_1/predict_1_svm.pkl_10.npy\n",
      "features/another_pred_1/predict_1_svm.pkl_11.npy\n",
      "features/another_pred_1/predict_1_svm.pkl_12.npy\n",
      "features/another_pred_1/predict_1_svm.pkl_13.npy\n",
      "models/third_model.model\n"
     ]
    }
   ],
   "source": [
    "for da in last_update.diff(cur_commit).iter_change_type('A'):\n",
    "    print da.a_path"
   ]
  },
  {
   "cell_type": "markdown",
   "metadata": {},
   "source": [
    "##What happens after a commit?\n",
    "\n",
    "When some change is made to the model repo, we need to detect what changed and decide what actions to take based on that change. These actions include reloading existing features or applications, adding new ones,\n",
    "or deleting old ones.\n",
    "\n",
    "__NOTE:__ Diff should be made as `old_commit.diff(new_commit)`, not other way around.\n",
    "\n",
    "####Features:\n",
    "\n",
    "* __Added:__\n",
    "    * Detection: A `features/feature_name/feature_name.pkl` file appears in the added paths list.\n",
    "    * Action: Added to list of available features, but not loaded unless feature is used by at least one model.\n",
    "* __Modified:__\n",
    "    * Detection: The pickle for a feature object can contain more than one file, so a single feature is stored in `features/feature_name/*` where that directory must have a `feature_name.pkl` file but may contain other files as well. A feature named `feature_name` is assumed to have changed if any files in a sub-directory of `features/feature_name/` exist in the modified_paths file, OR if a `feature/feature_name/*` file appears in the added paths file, such that the file does not have a `*.pkl` file extension AND that feature has not already been detected as a new feature. I highly doubt that this situation could arise based on how I think pickling works, but it's an important edge case to handle for git. This case arises because a feature in our system is a single object, but is composed of multiple paths which is the unit of change that git is looking at (not strictly true, but close enough).\n",
    "    * Action: Added to list of reload_features. Once we've compiled the list of features that need to be reloaded, we union that with the list of new features. This gives us a list of uninitialized features, and we intersect that with the list of features that are in use to yield the list of features unloaded features that need to be loaded. This process completely ignores versioning for now. Each model is expected to use the latest version of each feature.\n",
    "* __Deleted:__\n",
    "    * Detection: \n",
    "* __Renamed:__ This is an edge case that I haven't fully thought through. This should be discouraged, and possibly we just throw an error. The problem is that names are unique identifiers for objects. Unlike in source code where name changes are common, that really messes things up in our scheme.\n",
    "\n",
    "####Models:\n",
    "\n",
    "* __Added:__\n",
    "    * Detection: a `*.model` file is present in the added paths list\n",
    "    * Action: create and load the new model\n",
    "    * Questions:\n",
    "        * Where should training data for a specific model be stored?\n",
    "* __Modified:__\n",
    "    * Detection: a `*.model` file is present in the modified paths list\n",
    "    * Action: Reload and retrain model. Already loaded training data does not need to be reloaded.\n",
    "* __Deleted:__\n",
    "    * Detection: a `*.model` file is present in the deleted paths list\n",
    "    * Action: model is deleted. Remove that models refs to each of the features it is using. If any feature's have ref-count 0, they can be removed as well.\n",
    "* __Renamed:__ For simplicity, treat as old model deleted and new model added.\n",
    "    * Detection: `*.model` file present in the renamed paths list\n",
    "    * Action: Add `diff.b_path` to deleted files list, add `diff.a_path` to added files list.\n"
   ]
  },
  {
   "cell_type": "code",
   "execution_count": null,
   "metadata": {
    "collapsed": true
   },
   "outputs": [],
   "source": [
    "\n",
    "'''\n",
    "\n",
    "Commits can cause a few issues, some of which are expected\n",
    "and some of which are errors.\n",
    "\n",
    "Features:\n",
    "    added: OK, but no action taken unless there are models using these\n",
    "           features.\n",
    "    removed: Only okay if \n",
    "\n",
    "'''\n",
    "def get_new_objects(last_commit, cur_commit):\n",
    "    available_features = []\n",
    "    unloaded_features = []\n",
    "    required_features = []\n",
    "    diff = last_update.diff(cur_commit)\n",
    "    new_models = []\n",
    "    new_features = []\n",
    "    new_paths = [da.a_path for da in diff.iter_change_type('A')]\n",
    "    modified_paths = [dm.a_path for dm in diff.iter_change_type('M')]\n",
    "    deleted_paths = [dd.b_path for dd in diff.iter_change_type('D')]\n",
    "    reload_paths = new_paths + modified_paths\n",
    "    \n",
    "    #\n",
    "    \n",
    "    \n",
    "    "
   ]
  }
 ],
 "metadata": {
  "kernelspec": {
   "display_name": "Python 2",
   "language": "python",
   "name": "python2"
  },
  "language_info": {
   "codemirror_mode": {
    "name": "ipython",
    "version": 2
   },
   "file_extension": ".py",
   "mimetype": "text/x-python",
   "name": "python",
   "nbconvert_exporter": "python",
   "pygments_lexer": "ipython2",
   "version": "2.7.8"
  }
 },
 "nbformat": 4,
 "nbformat_minor": 0
}
