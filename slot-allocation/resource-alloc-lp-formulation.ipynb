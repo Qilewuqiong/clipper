{
 "cells": [
  {
   "cell_type": "code",
   "execution_count": null,
   "metadata": {
    "collapsed": true
   },
   "outputs": [],
   "source": [
    "\n",
    "import numpy as np\n",
    "from cvxpy import *"
   ]
  },
  {
   "cell_type": "markdown",
   "metadata": {},
   "source": [
    "# Linear Program"
   ]
  },
  {
   "cell_type": "code",
   "execution_count": null,
   "metadata": {
    "collapsed": false
   },
   "outputs": [],
   "source": [
    "# p = Parameter(sign=\"positive\", value=4)\n",
    "p = 4\n",
    "u = np.array([0.3, 0.25, 0.45])\n",
    "t = np.array([5.0,6.0,2.0]) #.reshape((i,1))\n",
    "# k = Parameter(sign=\"positive\", value=3)\n",
    "k = 3\n",
    "# T = Parameter(sign=\"positive\", value=10)\n",
    "T = 10\n",
    "\n",
    "X = Variable(k,p)\n",
    "r = Variable(k)\n",
    "q = Variable(k)\n",
    "\n",
    "probs = []\n",
    "for i in range(k):\n",
    "#     obj = q[i]*u[i] - r[i]\n",
    "    constr = [q[i] == sum_entries(X[i,:])*t[i]/T - r[i],\n",
    "              q[i] >= 0,\n",
    "              q[i] <= 1,\n",
    "              r[i] >= 0]\n",
    "    probs.append(Problem(Maximize(q[i]*u[i] - r[i]), constr))\n",
    "\n",
    "full_prob = sum(probs)\n",
    "for j in range(p): \n",
    "    # should this be equality or lt_equals?\n",
    "    full_prob.constraints += [sum_entries(X[:,j]) == 1]\n",
    "full_prob.constraints += [sum_entries(X) == p]\n",
    "# print [c.is_dcp() for c in full_prob.constraints]\n",
    "\n",
    "full_prob.solve()\n",
    "X.value\n",
    "\n",
    "\n",
    "\n",
    "# total_thru = mul_elemwise(t/T, sum_entries(X, axis=1))\n",
    "# constraints = []\n",
    "\n",
    "\n",
    "\n",
    "\n",
    "# constraints.append(sum_entries(X,axis=0) == 1) # slot used constraint\n",
    "# constraints.append(sum_entries(X) == p) # total_slot_constraint\n",
    "# constraints.append(q >= 0)\n",
    "# constraints.append(q <= 1)\n",
    "# constraints.append(r >= 0)\n",
    "# # constraints.append(q == total_thru - r)\n",
    "# obj = Maximize(sum_entries(mul_elemwise(q,u)) - sum_entries(r))\n",
    "# prob = Problem(obj, constraints)\n",
    "# prob.solve()\n",
    "\n",
    "\n",
    "\n",
    "\n",
    "\n",
    "\n",
    "# print total_thru.size"
   ]
  },
  {
   "cell_type": "code",
   "execution_count": null,
   "metadata": {
    "collapsed": false
   },
   "outputs": [],
   "source": [
    "print r.value\n",
    "print q.value"
   ]
  },
  {
   "cell_type": "markdown",
   "metadata": {
    "collapsed": true
   },
   "source": [
    "# Integer Program"
   ]
  },
  {
   "cell_type": "code",
   "execution_count": null,
   "metadata": {
    "collapsed": false
   },
   "outputs": [],
   "source": [
    "p = 4\n",
    "u = np.array([0.3, 0.25, 0.45])\n",
    "t = np.array([5.0,6.0,2.0]) #.reshape((i,1))\n",
    "# k = Parameter(sign=\"positive\", value=3)\n",
    "k = 3\n",
    "# T = Parameter(sign=\"positive\", value=10)\n",
    "T = 10\n",
    "\n",
    "X = Int(k,p)\n",
    "r = Variable(k)\n",
    "q = Int(k)\n",
    "\n",
    "maxs = []\n",
    "constraints = []\n",
    "for i in range(k):\n",
    "#     obj = q[i]*u[i] - r[i]\n",
    "#     constr = [q[i] == sum_entries(X[i,:])*t[i]/T - r[i]]\n",
    "    maxs.append(Maximize(q[i]*u[i] - r[i]))\n",
    "    constraints += [q[i] == sum_entries(X[i,:]) - r[i]]\n",
    "    constraints += [sum_entries(X[i,:])*t[i] >= T*q[i]]\n",
    "\n",
    "\n",
    "\n",
    "for j in range(p): \n",
    "    # should this be equality or lt_equals?\n",
    "    constraints += [sum_entries(X[:,j]) == 1]\n",
    "    \n",
    "\n",
    "    \n",
    "constraints += [sum_entries(X) == p]\n",
    "constraints += [X <= 1]\n",
    "constraints += [X >= 0]\n",
    "constraints += [q <= 1]\n",
    "constraints += [q >= 0]\n",
    "constraints += [r >= 0]\n",
    "prob = Problem(sum(maxs), constraints)\n",
    "\n",
    "\n",
    "# print [c.is_dcp() for c in full_prob.constraints]\n",
    "\n",
    "prob.solve()\n",
    "xs = np.zeros((k,p))\n",
    "for i in range(k):\n",
    "    for j in range(p):\n",
    "        cur_x = X.value[i,j]\n",
    "        if cur_x > 0.0000001:\n",
    "            xs[i,j] = cur_x\n",
    "print xs\n",
    "        \n",
    "# res = [x if x > 0.0000001 else 0 for x in X.value]"
   ]
  },
  {
   "cell_type": "code",
   "execution_count": 3,
   "metadata": {
    "collapsed": true
   },
   "outputs": [],
   "source": [
    "import numpy as np\n",
    "from cvxpy import *\n",
    "def assign_slots(num_slots, utilities, throughputs, required_throughput):\n",
    "# u = np.array([0.3, 0.25, 0.45])\n",
    "# t = np.array([5.0,6.0,2.0]) #.reshape((i,1))\n",
    "# # k = Parameter(sign=\"positive\", value=3)\n",
    "# k = 3\n",
    "# # T = Parameter(sign=\"positive\", value=10)\n",
    "# T = 10)\n",
    "    p = num_slots\n",
    "    k = len(utilities)\n",
    "    assert len(throughputs) == len(utilities)\n",
    "    T = required_throughput\n",
    "    X = Int(k,p)\n",
    "    r = Variable(k)\n",
    "    q = Int(k)\n",
    "    maxs = []\n",
    "    constraints = []\n",
    "    for i in range(k):\n",
    "        maxs.append(Maximize(q[i]*u[i] - r[i]))\n",
    "        constraints += [q[i] == sum_entries(X[i,:]) - r[i]]\n",
    "        constraints += [sum_entries(X[i,:])*t[i] >= T*q[i]]\n",
    "    for j in range(p): \n",
    "        constraints += [sum_entries(X[:,j]) == 1]\n",
    "    constraints += [sum_entries(X) == p]\n",
    "    constraints += [X <= 1]\n",
    "    constraints += [X >= 0]\n",
    "    constraints += [q <= 1]\n",
    "    constraints += [q >= 0]\n",
    "    constraints += [r >= 0]\n",
    "    prob = Problem(sum(maxs), constraints)\n",
    "    prob.solve()\n",
    "    # filter small floats to 0\n",
    "    xs = np.zeros((k,p))\n",
    "    for i in range(k):\n",
    "        for j in range(p):\n",
    "            cur_x = X.value[i,j]\n",
    "            if cur_x > 0.0000001:\n",
    "                xs[i,j] = cur_x\n",
    "    return xs"
   ]
  },
  {
   "cell_type": "code",
   "execution_count": 5,
   "metadata": {
    "collapsed": false
   },
   "outputs": [
    {
     "name": "stdout",
     "output_type": "stream",
     "text": [
      "[[ 0.  0.  1.  1.]\n",
      " [ 1.  1.  0.  0.]\n",
      " [ 0.  0.  0.  0.]]\n"
     ]
    }
   ],
   "source": [
    "p = 4\n",
    "u = np.array([0.3, 0.25, 0.45])\n",
    "t = np.array([5.0,6.0,2.0]) #.reshape((i,1))\n",
    "# k = Parameter(sign=\"positive\", value=3)\n",
    "k = 3\n",
    "# T = Parameter(sign=\"positive\", value=10)\n",
    "T = 10\n",
    "print (assign_slots(p,u,t,T))"
   ]
  },
  {
   "cell_type": "code",
   "execution_count": null,
   "metadata": {
    "collapsed": true
   },
   "outputs": [],
   "source": []
  }
 ],
 "metadata": {
  "kernelspec": {
   "display_name": "Python 2",
   "language": "python",
   "name": "python2"
  },
  "language_info": {
   "codemirror_mode": {
    "name": "ipython",
    "version": 2
   },
   "file_extension": ".py",
   "mimetype": "text/x-python",
   "name": "python",
   "nbconvert_exporter": "python",
   "pygments_lexer": "ipython2",
   "version": "2.7.12"
  }
 },
 "nbformat": 4,
 "nbformat_minor": 0
}
