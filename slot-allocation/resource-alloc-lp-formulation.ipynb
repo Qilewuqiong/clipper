{
 "cells": [
  {
   "cell_type": "code",
   "execution_count": null,
   "metadata": {
    "collapsed": true
   },
   "outputs": [],
   "source": [
    "\n",
    "import numpy as np\n",
    "from cvxpy import *"
   ]
  },
  {
   "cell_type": "markdown",
   "metadata": {},
   "source": [
    "# Linear Program"
   ]
  },
  {
   "cell_type": "code",
   "execution_count": 75,
   "metadata": {
    "collapsed": false
   },
   "outputs": [],
   "source": [
    "# # p = Parameter(sign=\"positive\", value=4)\n",
    "# p = 4\n",
    "# u = np.array([0.3, 0.25, 0.45])\n",
    "# t = np.array([5.0,6.0,2.0]) #.reshape((i,1))\n",
    "# # k = Parameter(sign=\"positive\", value=3)\n",
    "# k = 3\n",
    "# # T = Parameter(sign=\"positive\", value=10)\n",
    "# T = 10\n",
    "\n",
    "def mip_assign_slots(num_slots, utilities, throughputs, required_throughput):\n",
    "    p = num_slots\n",
    "#     print p\n",
    "    k = len(utilities)\n",
    "#     print k\n",
    "    assert len(throughputs) == len(utilities)\n",
    "    T = required_throughput\n",
    "    X = Variable(k,p)\n",
    "    r = Variable(k)\n",
    "    q = Variable(k)\n",
    "    maxs = []\n",
    "    constr = [] \n",
    "    constr += [X >= 0, X <= 1]\n",
    "    for i in range(k):\n",
    "        constr += [q[i] == sum_entries(X[i,:])*t[i]/T - r[i]]\n",
    "        maxs.append(Maximize(q[i]*u[i] - r[i]))\n",
    "\n",
    "    for j in range(p): \n",
    "        constr += [sum_entries(X[:,j]) == 1]\n",
    "   \n",
    "    \n",
    "    constr += [sum_entries(X) == p]\n",
    "    constr += [q >= 0, q <= 1, r >= 0]\n",
    "    prob = Problem(sum(maxs), constr)\n",
    "\n",
    "    print(prob.solve())\n",
    "    xs = np.zeros((k,p))\n",
    "#     print X.value\n",
    "    for i in range(k):\n",
    "        for j in range(p):\n",
    "            cur_x = X.value[i,j]\n",
    "            if cur_x > 0.01:\n",
    "                xs[i,j] = cur_x\n",
    "    return xs\n",
    "#     return X.value\n"
   ]
  },
  {
   "cell_type": "code",
   "execution_count": null,
   "metadata": {
    "collapsed": false
   },
   "outputs": [],
   "source": [
    "print r.value\n",
    "print q.value"
   ]
  },
  {
   "cell_type": "markdown",
   "metadata": {
    "collapsed": true
   },
   "source": [
    "# Integer Program"
   ]
  },
  {
   "cell_type": "code",
   "execution_count": null,
   "metadata": {
    "collapsed": false
   },
   "outputs": [],
   "source": [
    "p = 4\n",
    "u = np.array([0.3, 0.25, 0.45])\n",
    "t = np.array([5.0,6.0,2.0]) #.reshape((i,1))\n",
    "# k = Parameter(sign=\"positive\", value=3)\n",
    "k = 3\n",
    "# T = Parameter(sign=\"positive\", value=10)\n",
    "T = 10\n",
    "\n",
    "X = Int(k,p)\n",
    "r = Variable(k)\n",
    "q = Int(k)\n",
    "\n",
    "maxs = []\n",
    "constraints = []\n",
    "for i in range(k):\n",
    "#     obj = q[i]*u[i] - r[i]\n",
    "#     constr = [q[i] == sum_entries(X[i,:])*t[i]/T - r[i]]\n",
    "    maxs.append(Maximize(q[i]*u[i] - r[i]))\n",
    "    constraints += [q[i] == sum_entries(X[i,:]) - r[i]]\n",
    "    constraints += [sum_entries(X[i,:])*t[i] >= T*q[i]]\n",
    "\n",
    "\n",
    "\n",
    "for j in range(p): \n",
    "    # should this be equality or lt_equals?\n",
    "    constraints += [sum_entries(X[:,j]) == 1]\n",
    "    \n",
    "\n",
    "    \n",
    "constraints += [sum_entries(X) == p]\n",
    "constraints += [X <= 1]\n",
    "constraints += [X >= 0]\n",
    "constraints += [q <= 1]\n",
    "constraints += [q >= 0]\n",
    "constraints += [r >= 0]\n",
    "prob = Problem(sum(maxs), constraints)\n",
    "\n",
    "\n",
    "# print [c.is_dcp() for c in full_prob.constraints]\n",
    "\n",
    "prob.solve()\n",
    "xs = np.zeros((k,p))\n",
    "for i in range(k):\n",
    "    for j in range(p):\n",
    "        cur_x = X.value[i,j]\n",
    "        if cur_x > 0.0000001:\n",
    "            xs[i,j] = cur_x\n",
    "print xs\n",
    "        \n",
    "# res = [x if x > 0.0000001 else 0 for x in X.value]"
   ]
  },
  {
   "cell_type": "code",
   "execution_count": 39,
   "metadata": {
    "collapsed": true
   },
   "outputs": [],
   "source": [
    "import numpy as np\n",
    "from cvxpy import *\n",
    "def assign_slots(num_slots, utilities, throughputs, required_throughput):\n",
    "# u = np.array([0.3, 0.25, 0.45])\n",
    "# t = np.array([5.0,6.0,2.0]) #.reshape((i,1))\n",
    "# # k = Parameter(sign=\"positive\", value=3)\n",
    "# k = 3\n",
    "# # T = Parameter(sign=\"positive\", value=10)\n",
    "# T = 10)\n",
    "    p = num_slots\n",
    "    print p\n",
    "    k = len(utilities)\n",
    "    print k\n",
    "    assert len(throughputs) == len(utilities)\n",
    "    T = required_throughput\n",
    "    X = Int(k,p)\n",
    "    r = Variable(k)\n",
    "    q = Int(k)\n",
    "    maxs = []\n",
    "    constraints = []\n",
    "    for i in range(k):\n",
    "        maxs.append(Maximize(q[i]*u[i] - r[i]))\n",
    "        constraints += [q[i] == sum_entries(X[i,:]) - r[i]]\n",
    "        constraints += [sum_entries(X[i,:])*t[i] >= T*q[i]]\n",
    "    for j in range(p): \n",
    "        constraints += [sum_entries(X[:,j]) == 1]\n",
    "    constraints += [sum_entries(X) == p]\n",
    "    constraints += [X <= 1]\n",
    "    constraints += [X >= 0]\n",
    "    constraints += [q <= 1]\n",
    "    constraints += [q >= 0]\n",
    "    constraints += [r >= 0]\n",
    "    prob = Problem(sum(maxs), constraints)\n",
    "    print prob.solve()\n",
    "#     print prob\n",
    "    # filter small floats to 0\n",
    "    xs = np.zeros((k,p))\n",
    "    print X.value\n",
    "    for i in range(k):\n",
    "        for j in range(p):\n",
    "            cur_x = X.value[i,j]\n",
    "            if cur_x > 0.0000001:\n",
    "                xs[i,j] = cur_x\n",
    "    return xs"
   ]
  },
  {
   "cell_type": "code",
   "execution_count": 76,
   "metadata": {
    "collapsed": false,
    "scrolled": true
   },
   "outputs": [
    {
     "name": "stdout",
     "output_type": "stream",
     "text": [
      "0.636348586294\n",
      "[[ 0.25        0.25        0.25        0.25        0.25        0.25        0.25\n",
      "   0.25        0.25        0.25        0.25        0.25        0.25        0.25\n",
      "   0.25        0.25        0.25        0.25        0.25        0.25      ]\n",
      " [ 0.21276596  0.21276596  0.21276596  0.21276596  0.21276596  0.21276596\n",
      "   0.21276596  0.21276596  0.21276596  0.21276596  0.21276596  0.21276596\n",
      "   0.21276596  0.21276596  0.21276596  0.21276596  0.21276596  0.21276596\n",
      "   0.21276596  0.21276596]\n",
      " [ 0.2173913   0.2173913   0.2173913   0.2173913   0.2173913   0.2173913\n",
      "   0.2173913   0.2173913   0.2173913   0.2173913   0.2173913   0.2173913\n",
      "   0.2173913   0.2173913   0.2173913   0.2173913   0.2173913   0.2173913\n",
      "   0.2173913   0.2173913 ]\n",
      " [ 0.1115094   0.1115094   0.1115094   0.1115094   0.1115094   0.1115094\n",
      "   0.1115094   0.1115094   0.1115094   0.1115094   0.1115094   0.1115094\n",
      "   0.1115094   0.1115094   0.1115094   0.1115094   0.1115094   0.1115094\n",
      "   0.1115094   0.1115094 ]\n",
      " [ 0.20833333  0.20833333  0.20833333  0.20833333  0.20833333  0.20833333\n",
      "   0.20833333  0.20833333  0.20833333  0.20833333  0.20833333  0.20833333\n",
      "   0.20833333  0.20833333  0.20833333  0.20833333  0.20833333  0.20833333\n",
      "   0.20833333  0.20833333]]\n",
      "4.99999999993 19999.9999997\n",
      "4.25531914889 19999.9999998\n",
      "4.34782608693 19999.9999999\n",
      "2.2301880994 669.05642982\n",
      "4.16666666485 19999.9999913\n"
     ]
    }
   ],
   "source": [
    "# import json\n",
    "raw_vals = [0.8, 0.9, 1.3, 1.9, 0.15]\n",
    "u = raw_vals / np.sum(raw_vals)\n",
    "# print json.dumps(list(u))\n",
    "t = [4000, 4700, 4600, 300, 4800]\n",
    "\n",
    "p = 20\n",
    "# u = np.array([0.3, 0.25, 0.45])\n",
    "# t = np.array([5.0,6.0,2.0])\n",
    "T = 20000\n",
    "slot_assignment = mip_assign_slots(p,u,t,T)\n",
    "print slot_assignment\n",
    "for i in range(len(slot_assignment)):\n",
    "    slots_used = np.sum(slot_assignment[i])\n",
    "    throughput_cap = slots_used*t[i]\n",
    "    print slots_used, throughput_cap\n",
    "    "
   ]
  },
  {
   "cell_type": "code",
   "execution_count": null,
   "metadata": {
    "collapsed": true
   },
   "outputs": [],
   "source": [
    "    "
   ]
  }
 ],
 "metadata": {
  "kernelspec": {
   "display_name": "Python 2",
   "language": "python",
   "name": "python2"
  },
  "language_info": {
   "codemirror_mode": {
    "name": "ipython",
    "version": 2
   },
   "file_extension": ".py",
   "mimetype": "text/x-python",
   "name": "python",
   "nbconvert_exporter": "python",
   "pygments_lexer": "ipython2",
   "version": "2.7.12"
  }
 },
 "nbformat": 4,
 "nbformat_minor": 0
}
