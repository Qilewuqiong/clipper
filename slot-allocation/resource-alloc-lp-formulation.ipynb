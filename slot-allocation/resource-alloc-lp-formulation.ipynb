{
 "cells": [
  {
   "cell_type": "code",
   "execution_count": 1,
   "metadata": {
    "collapsed": false
   },
   "outputs": [],
   "source": [
    "\n",
    "import numpy as np\n",
    "from cvxpy import *\n",
    "\n",
    "import numpy as np\n",
    "import scipy\n",
    "import matplotlib\n",
    "import matplotlib.pyplot as plt"
   ]
  },
  {
   "cell_type": "markdown",
   "metadata": {},
   "source": [
    "# Linear Program"
   ]
  },
  {
   "cell_type": "code",
   "execution_count": 2,
   "metadata": {
    "collapsed": false
   },
   "outputs": [],
   "source": [
    "# # p = Parameter(sign=\"positive\", value=4)\n",
    "# p = 4\n",
    "# u = np.array([0.3, 0.25, 0.45])\n",
    "# t = np.array([5.0,6.0,2.0]) #.reshape((i,1))\n",
    "# # k = Parameter(sign=\"positive\", value=3)\n",
    "# k = 3\n",
    "# # T = Parameter(sign=\"positive\", value=10)\n",
    "# T = 10\n",
    "\n",
    "def lp_assign_slots(num_slots, utilities, throughputs, required_throughput):\n",
    "    p = num_slots\n",
    "#     print p\n",
    "    k = len(utilities)\n",
    "#     print k\n",
    "    assert len(throughputs) == len(utilities)\n",
    "    T = required_throughput #*1.1\n",
    "    X = Variable(k,p)\n",
    "    r = Variable(k)\n",
    "    q = Variable(k)\n",
    "    maxs = []\n",
    "    constr = [] \n",
    "    constr += [X >= 0, X <= 1]\n",
    "    for i in range(k):\n",
    "        constr += [q[i] == sum_entries(X[i,:])*t[i]/T - r[i]]\n",
    "        maxs.append(Maximize(q[i]*u[i] - r[i]))\n",
    "\n",
    "    for j in range(p): \n",
    "        constr += [sum_entries(X[:,j]) == 1]\n",
    "   \n",
    "    \n",
    "    constr += [sum_entries(X) == p]\n",
    "    constr += [q >= 0, q <= 1, r >= 0]\n",
    "    \n",
    "    \n",
    "    ###########################\n",
    "    # Cross-term penalty is not convex\n",
    "    ############################\n",
    "#     for i in range(k):\n",
    "#         for l in range(k):\n",
    "#             if i != l:\n",
    "#                 maxs.append(Maximize(-1*X[i,j]*X[l,j]))\n",
    "            \n",
    "    prob = Problem(sum(maxs), constr)\n",
    "\n",
    "\n",
    "#     print(prob.solve(solver=ECOS_BB, mi_max_iters=10000))\n",
    "    print(prob.solve())\n",
    "\n",
    "    xs = np.zeros((k,p))\n",
    "#     print X.value\n",
    "    for i in range(k):\n",
    "        for j in range(p):\n",
    "            cur_x = X.value[i,j]\n",
    "            if cur_x > 0.01:\n",
    "                xs[i,j] = cur_x\n",
    "    return (xs,prob,q,r)\n",
    "#     return X.value\n"
   ]
  },
  {
   "cell_type": "code",
   "execution_count": null,
   "metadata": {
    "collapsed": false
   },
   "outputs": [],
   "source": [
    "print r.value\n",
    "print q.value"
   ]
  },
  {
   "cell_type": "markdown",
   "metadata": {
    "collapsed": true
   },
   "source": [
    "# Integer Program"
   ]
  },
  {
   "cell_type": "code",
   "execution_count": null,
   "metadata": {
    "collapsed": false
   },
   "outputs": [],
   "source": [
    "p = 4\n",
    "u = np.array([0.3, 0.25, 0.45])\n",
    "t = np.array([5.0,6.0,2.0]) #.reshape((i,1))\n",
    "# k = Parameter(sign=\"positive\", value=3)\n",
    "k = 3\n",
    "# T = Parameter(sign=\"positive\", value=10)\n",
    "T = 10\n",
    "\n",
    "X = Int(k,p)\n",
    "r = Variable(k)\n",
    "q = Int(k)\n",
    "\n",
    "maxs = []\n",
    "constraints = []\n",
    "for i in range(k):\n",
    "#     obj = q[i]*u[i] - r[i]\n",
    "#     constr = [q[i] == sum_entries(X[i,:])*t[i]/T - r[i]]\n",
    "    maxs.append(Maximize(q[i]*u[i] - r[i]))\n",
    "    constraints += [q[i] == sum_entries(X[i,:]) - r[i]]\n",
    "    constraints += [sum_entries(X[i,:])*t[i] >= T*q[i]]\n",
    "\n",
    "\n",
    "\n",
    "for j in range(p): \n",
    "    # should this be equality or lt_equals?\n",
    "    constraints += [sum_entries(X[:,j]) == 1]\n",
    "    \n",
    "\n",
    "    \n",
    "constraints += [sum_entries(X) == p]\n",
    "constraints += [X <= 1]\n",
    "constraints += [X >= 0]\n",
    "constraints += [q <= 1]\n",
    "constraints += [q >= 0]\n",
    "constraints += [r >= 0]\n",
    "prob = Problem(sum(maxs), constraints)\n",
    "\n",
    "\n",
    "# print [c.is_dcp() for c in full_prob.constraints]\n",
    "\n",
    "prob.solve()\n",
    "xs = np.zeros((k,p))\n",
    "for i in range(k):\n",
    "    for j in range(p):\n",
    "        cur_x = X.value[i,j]\n",
    "        if cur_x > 0.0000001:\n",
    "            xs[i,j] = cur_x\n",
    "print xs\n",
    "        \n",
    "# res = [x if x > 0.0000001 else 0 for x in X.value]"
   ]
  },
  {
   "cell_type": "code",
   "execution_count": 39,
   "metadata": {
    "collapsed": true
   },
   "outputs": [],
   "source": [
    "import numpy as np\n",
    "from cvxpy import *\n",
    "def assign_slots(num_slots, utilities, throughputs, required_throughput):\n",
    "# u = np.array([0.3, 0.25, 0.45])\n",
    "# t = np.array([5.0,6.0,2.0]) #.reshape((i,1))\n",
    "# # k = Parameter(sign=\"positive\", value=3)\n",
    "# k = 3\n",
    "# # T = Parameter(sign=\"positive\", value=10)\n",
    "# T = 10)\n",
    "    p = num_slots\n",
    "    print p\n",
    "    k = len(utilities)\n",
    "    print k\n",
    "    assert len(throughputs) == len(utilities)\n",
    "    T = required_throughput\n",
    "    X = Int(k,p)\n",
    "    r = Variable(k)\n",
    "    q = Int(k)\n",
    "    maxs = []\n",
    "    constraints = []\n",
    "    for i in range(k):\n",
    "        maxs.append(Maximize(q[i]*u[i] - r[i]))\n",
    "        constraints += [q[i] == sum_entries(X[i,:]) - r[i]]\n",
    "        constraints += [sum_entries(X[i,:])*t[i] >= T*q[i]]\n",
    "    for j in range(p): \n",
    "        constraints += [sum_entries(X[:,j]) == 1]\n",
    "    constraints += [sum_entries(X) == p]\n",
    "    constraints += [X <= 1]\n",
    "    constraints += [X >= 0]\n",
    "    constraints += [q <= 1]\n",
    "    constraints += [q >= 0]\n",
    "    constraints += [r >= 0]\n",
    "    prob = Problem(sum(maxs), constraints)\n",
    "    print prob.solve()\n",
    "#     print prob\n",
    "    # filter small floats to 0\n",
    "    xs = np.zeros((k,p))\n",
    "    print X.value\n",
    "    for i in range(k):\n",
    "        for j in range(p):\n",
    "            cur_x = X.value[i,j]\n",
    "            if cur_x > 0.0000001:\n",
    "                xs[i,j] = cur_x\n",
    "    return xs"
   ]
  },
  {
   "cell_type": "code",
   "execution_count": 3,
   "metadata": {
    "collapsed": false,
    "scrolled": true
   },
   "outputs": [
    {
     "name": "stdout",
     "output_type": "stream",
     "text": [
      "5000\n",
      "-0.133452821463\n",
      "10000\n",
      "0.974962447626\n",
      "15000\n",
      "0.824467398169\n",
      "20000\n",
      "0.749219873419\n",
      "25000\n",
      "0.704071358566\n",
      "30000\n",
      "0.673972348666\n",
      "35000\n",
      "0.652473055867\n",
      "40000\n",
      "0.636348586292\n",
      "45000\n",
      "0.623807332162\n",
      "50000\n",
      "0.611145895335\n",
      "55000\n",
      "0.600776858438\n",
      "60000\n",
      "0.585510909967\n",
      "65000\n",
      "0.553015352616\n",
      "70000\n",
      "0.525162017972\n",
      "75000\n",
      "0.501022461169\n",
      "80000\n",
      "0.479900348961\n",
      "85000\n",
      "0.461263191104\n",
      "90000\n",
      "0.4446968286\n",
      "95000\n",
      "0.428017309737\n"
     ]
    }
   ],
   "source": [
    "# import json\n",
    "raw_vals = [0.8, 0.9, 1.3, 1.9, 0.15]\n",
    "u = raw_vals / np.sum(raw_vals)\n",
    "# print json.dumps(list(u))\n",
    "t = [4000, 4700, 4600, 300, 4800]\n",
    "\n",
    "p = 40\n",
    "# u = np.array([0.3, 0.25, 0.45])\n",
    "# t = np.array([5.0,6.0,2.0])\n",
    "thrus = range(5000, 100000, 5000)\n",
    "slot_allocations = np.zeros((len(t), len(thrus)))\n",
    "for (idx, T) in enumerate(thrus):\n",
    "    print T\n",
    "# T = 20000*1.05\n",
    "    slot_assignment, prob,q,r = lp_assign_slots(p,u,t,T)\n",
    "    for i in range(len(slot_assignment)):\n",
    "        slots_used = np.sum(slot_assignment[i])\n",
    "        throughput_cap = slots_used*t[i]\n",
    "        slot_allocations[i,idx] = slots_used\n",
    "#         print slots_used, throughput_cap\n",
    "    "
   ]
  },
  {
   "cell_type": "code",
   "execution_count": 13,
   "metadata": {
    "collapsed": false
   },
   "outputs": [
    {
     "data": {
      "image/png": "[encoded data removed]",
      "text/plain": [
       "<matplotlib.figure.Figure at 0x1126cd210>"
      ]
     },
     "metadata": {},
     "output_type": "display_data"
    }
   ],
   "source": [
    "fig, ax = plt.subplots()\n",
    "for i in range(len(slot_allocations)):\n",
    "    ax.plot(thrus, slot_allocations[i], label=\"%.3f\" % u[i])\n",
    "ax.legend()\n",
    "ax.set_xlabel(\"Throughput threshold\")  \n",
    "ax.set_ylabel(\"Slot allocation\")\n",
    "plt.show()"
   ]
  },
  {
   "cell_type": "code",
   "execution_count": 92,
   "metadata": {
    "collapsed": false
   },
   "outputs": [
    {
     "data": {
      "text/plain": [
       "matrix([[  1.96357445e-13],\n",
       "        [  7.60481723e-14],\n",
       "        [ -7.80087704e-14],\n",
       "        [  4.75991358e-13],\n",
       "        [ -1.79277292e-13]])"
      ]
     },
     "execution_count": 92,
     "metadata": {},
     "output_type": "execute_result"
    }
   ],
   "source": [
    "r.value"
   ]
  },
  {
   "cell_type": "code",
   "execution_count": 100,
   "metadata": {
    "collapsed": false
   },
   "outputs": [
    {
     "name": "stdout",
     "output_type": "stream",
     "text": [
      "['CVXOPT', 'ECOS_BB', 'SCS', 'ECOS', 'LS']\n"
     ]
    }
   ],
   "source": [
    "print installed_solvers()"
   ]
  },
  {
   "cell_type": "code",
   "execution_count": 107,
   "metadata": {
    "collapsed": false
   },
   "outputs": [
    {
     "data": {
      "text/plain": [
       "True"
      ]
     },
     "execution_count": 107,
     "metadata": {},
     "output_type": "execute_result"
    }
   ],
   "source": [
    "1 != 3"
   ]
  },
  {
   "cell_type": "code",
   "execution_count": null,
   "metadata": {
    "collapsed": true
   },
   "outputs": [],
   "source": [
    "\n"
   ]
  }
 ],
 "metadata": {
  "kernelspec": {
   "display_name": "Python 2",
   "language": "python",
   "name": "python2"
  },
  "language_info": {
   "codemirror_mode": {
    "name": "ipython",
    "version": 2
   },
   "file_extension": ".py",
   "mimetype": "text/x-python",
   "name": "python",
   "nbconvert_exporter": "python",
   "pygments_lexer": "ipython2",
   "version": "2.7.11"
  }
 },
 "nbformat": 4,
 "nbformat_minor": 0
}
